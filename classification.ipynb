{
 "cells": [
  {
   "cell_type": "markdown",
   "metadata": {},
   "source": [
    "## 0. 데이터불러오기\n",
    "\n",
    "MNIST 데이터셋을 이용한 분류 모델 연습하기"
   ]
  },
  {
   "cell_type": "code",
   "execution_count": 9,
   "metadata": {},
   "outputs": [
    {
     "name": "stdout",
     "output_type": "stream",
     "text": [
      "dict_keys(['data', 'target', 'frame', 'categories', 'feature_names', 'target_names', 'DESCR', 'details', 'url'])\n"
     ]
    }
   ],
   "source": [
    "import ssl\n",
    "import urllib\n",
    "from sklearn.datasets import fetch_openml\n",
    "\n",
    "# SSL 인증서 검증을 비활성화\n",
    "ssl._create_default_https_context = ssl._create_unverified_context\n",
    "\n",
    "# MNIST 데이터셋 로드\n",
    "mnist = fetch_openml('mnist_784', version=1)\n",
    "\n",
    "# 데이터 확인\n",
    "mnist.keys()"
   ]
  },
  {
   "cell_type": "code",
   "execution_count": 20,
   "metadata": {},
   "outputs": [],
   "source": [
    "X = mnist['data']\n",
    "y = mnist['target']"
   ]
  },
  {
   "cell_type": "code",
   "execution_count": 26,
   "metadata": {},
   "outputs": [
    {
     "data": {
      "text/plain": [
       "(70000, 784)"
      ]
     },
     "execution_count": 26,
     "metadata": {},
     "output_type": "execute_result"
    }
   ],
   "source": [
    "X.shape"
   ]
  },
  {
   "cell_type": "code",
   "execution_count": 22,
   "metadata": {},
   "outputs": [
    {
     "data": {
      "text/plain": [
       "(70000,)"
      ]
     },
     "execution_count": 22,
     "metadata": {},
     "output_type": "execute_result"
    }
   ],
   "source": [
    "y.shape"
   ]
  },
  {
   "cell_type": "markdown",
   "metadata": {},
   "source": [
    "28 x 28 픽셀로 이루어진 데이터를 시각화해보자."
   ]
  },
  {
   "cell_type": "code",
   "execution_count": 52,
   "metadata": {},
   "outputs": [],
   "source": [
    "import numpy as np\n",
    "import matplotlib as mpl\n",
    "import matplotlib.pyplot as plt"
   ]
  },
  {
   "cell_type": "code",
   "execution_count": 42,
   "metadata": {},
   "outputs": [
    {
     "data": {
      "text/plain": [
       "pandas.core.frame.DataFrame"
      ]
     },
     "execution_count": 42,
     "metadata": {},
     "output_type": "execute_result"
    }
   ],
   "source": [
    "type(X.head(1))"
   ]
  },
  {
   "cell_type": "code",
   "execution_count": 48,
   "metadata": {},
   "outputs": [
    {
     "data": {
      "image/png": "[encoded data removed]",
      "text/plain": [
       "<Figure size 640x480 with 1 Axes>"
      ]
     },
     "metadata": {},
     "output_type": "display_data"
    }
   ],
   "source": [
    "some_digit = X.iloc[0].to_numpy()\n",
    "some_digit_image = some_digit.reshape(28, 28)\n",
    "\n",
    "plt.imshow(some_digit_image, cmap='binary')\n",
    "plt.axis('off')\n",
    "plt.show()"
   ]
  },
  {
   "cell_type": "code",
   "execution_count": 49,
   "metadata": {},
   "outputs": [
    {
     "data": {
      "text/plain": [
       "'5'"
      ]
     },
     "execution_count": 49,
     "metadata": {},
     "output_type": "execute_result"
    }
   ],
   "source": [
    "y[0]"
   ]
  },
  {
   "cell_type": "markdown",
   "metadata": {},
   "source": [
    "자료를 더 자세히 조사하기전에 `훈련 데이터셋`과 `테스트 데이터셋`을 분리하자!"
   ]
  },
  {
   "cell_type": "code",
   "execution_count": 89,
   "metadata": {},
   "outputs": [],
   "source": [
    "y = y.astype(np.uint8)\n",
    "X_train, X_test, y_train, y_test = X[:60000], X[60000:], y[:60000], y[60000:]"
   ]
  },
  {
   "cell_type": "markdown",
   "metadata": {},
   "source": [
    "## 1. 이진 분류기 훈련\n",
    "\n",
    "숫자 5와 5가 아닌 숫자를 구별하는 모델을 만들어보자!"
   ]
  },
  {
   "cell_type": "code",
   "execution_count": 91,
   "metadata": {},
   "outputs": [],
   "source": [
    "y_train5 = (y_train == 5)\n",
    "y_test5 = (y_test == 5)"
   ]
  },
  {
   "cell_type": "code",
   "execution_count": 94,
   "metadata": {},
   "outputs": [
    {
     "name": "stdout",
     "output_type": "stream",
     "text": [
      "Unique classes in y_train5: [ True False]\n"
     ]
    }
   ],
   "source": [
    "# 고유 클래스 확인\n",
    "print(\"Unique classes in y_train5:\", y_train5.unique())"
   ]
  },
  {
   "cell_type": "code",
   "execution_count": 92,
   "metadata": {},
   "outputs": [],
   "source": [
    "from sklearn.linear_model import SGDClassifier"
   ]
  },
  {
   "cell_type": "code",
   "execution_count": 95,
   "metadata": {},
   "outputs": [
    {
     "data": {
      "text/html": [
       "<style>#sk-container-id-2 {\n",
       "  /* Definition of color scheme common for light and dark mode */\n",
       "  --sklearn-color-text: black;\n",
       "  --sklearn-color-line: gray;\n",
       "  /* Definition of color scheme for unfitted estimators */\n",
       "  --sklearn-color-unfitted-level-0: #fff5e6;\n",
       "  --sklearn-color-unfitted-level-1: #f6e4d2;\n",
       "  --sklearn-color-unfitted-level-2: #ffe0b3;\n",
       "  --sklearn-color-unfitted-level-3: chocolate;\n",
       "  /* Definition of color scheme for fitted estimators */\n",
       "  --sklearn-color-fitted-level-0: #f0f8ff;\n",
       "  --sklearn-color-fitted-level-1: #d4ebff;\n",
       "  --sklearn-color-fitted-level-2: #b3dbfd;\n",
       "  --sklearn-color-fitted-level-3: cornflowerblue;\n",
       "\n",
       "  /* Specific color for light theme */\n",
       "  --sklearn-color-text-on-default-background: var(--sg-text-color, var(--theme-code-foreground, var(--jp-content-font-color1, black)));\n",
       "  --sklearn-color-background: var(--sg-background-color, var(--theme-background, var(--jp-layout-color0, white)));\n",
       "  --sklearn-color-border-box: var(--sg-text-color, var(--theme-code-foreground, var(--jp-content-font-color1, black)));\n",
       "  --sklearn-color-icon: #696969;\n",
       "\n",
       "  @media (prefers-color-scheme: dark) {\n",
       "    /* Redefinition of color scheme for dark theme */\n",
       "    --sklearn-color-text-on-default-background: var(--sg-text-color, var(--theme-code-foreground, var(--jp-content-font-color1, white)));\n",
       "    --sklearn-color-background: var(--sg-background-color, var(--theme-background, var(--jp-layout-color0, #111)));\n",
       "    --sklearn-color-border-box: var(--sg-text-color, var(--theme-code-foreground, var(--jp-content-font-color1, white)));\n",
       "    --sklearn-color-icon: #878787;\n",
       "  }\n",
       "}\n",
       "\n",
       "#sk-container-id-2 {\n",
       "  color: var(--sklearn-color-text);\n",
       "}\n",
       "\n",
       "#sk-container-id-2 pre {\n",
       "  padding: 0;\n",
       "}\n",
       "\n",
       "#sk-container-id-2 input.sk-hidden--visually {\n",
       "  border: 0;\n",
       "  clip: rect(1px 1px 1px 1px);\n",
       "  clip: rect(1px, 1px, 1px, 1px);\n",
       "  height: 1px;\n",
       "  margin: -1px;\n",
       "  overflow: hidden;\n",
       "  padding: 0;\n",
       "  position: absolute;\n",
       "  width: 1px;\n",
       "}\n",
       "\n",
       "#sk-container-id-2 div.sk-dashed-wrapped {\n",
       "  border: 1px dashed var(--sklearn-color-line);\n",
       "  margin: 0 0.4em 0.5em 0.4em;\n",
       "  box-sizing: border-box;\n",
       "  padding-bottom: 0.4em;\n",
       "  background-color: var(--sklearn-color-background);\n",
       "}\n",
       "\n",
       "#sk-container-id-2 div.sk-container {\n",
       "  /* jupyter's `normalize.less` sets `[hidden] { display: none; }`\n",
       "     but bootstrap.min.css set `[hidden] { display: none !important; }`\n",
       "     so we also need the `!important` here to be able to override the\n",
       "     default hidden behavior on the sphinx rendered scikit-learn.org.\n",
       "     See: https://github.com/scikit-learn/scikit-learn/issues/21755 */\n",
       "  display: inline-block !important;\n",
       "  position: relative;\n",
       "}\n",
       "\n",
       "#sk-container-id-2 div.sk-text-repr-fallback {\n",
       "  display: none;\n",
       "}\n",
       "\n",
       "div.sk-parallel-item,\n",
       "div.sk-serial,\n",
       "div.sk-item {\n",
       "  /* draw centered vertical line to link estimators */\n",
       "  background-image: linear-gradient(var(--sklearn-color-text-on-default-background), var(--sklearn-color-text-on-default-background));\n",
       "  background-size: 2px 100%;\n",
       "  background-repeat: no-repeat;\n",
       "  background-position: center center;\n",
       "}\n",
       "\n",
       "/* Parallel-specific style estimator block */\n",
       "\n",
       "#sk-container-id-2 div.sk-parallel-item::after {\n",
       "  content: \"\";\n",
       "  width: 100%;\n",
       "  border-bottom: 2px solid var(--sklearn-color-text-on-default-background);\n",
       "  flex-grow: 1;\n",
       "}\n",
       "\n",
       "#sk-container-id-2 div.sk-parallel {\n",
       "  display: flex;\n",
       "  align-items: stretch;\n",
       "  justify-content: center;\n",
       "  background-color: var(--sklearn-color-background);\n",
       "  position: relative;\n",
       "}\n",
       "\n",
       "#sk-container-id-2 div.sk-parallel-item {\n",
       "  display: flex;\n",
       "  flex-direction: column;\n",
       "}\n",
       "\n",
       "#sk-container-id-2 div.sk-parallel-item:first-child::after {\n",
       "  align-self: flex-end;\n",
       "  width: 50%;\n",
       "}\n",
       "\n",
       "#sk-container-id-2 div.sk-parallel-item:last-child::after {\n",
       "  align-self: flex-start;\n",
       "  width: 50%;\n",
       "}\n",
       "\n",
       "#sk-container-id-2 div.sk-parallel-item:only-child::after {\n",
       "  width: 0;\n",
       "}\n",
       "\n",
       "/* Serial-specific style estimator block */\n",
       "\n",
       "#sk-container-id-2 div.sk-serial {\n",
       "  display: flex;\n",
       "  flex-direction: column;\n",
       "  align-items: center;\n",
       "  background-color: var(--sklearn-color-background);\n",
       "  padding-right: 1em;\n",
       "  padding-left: 1em;\n",
       "}\n",
       "\n",
       "\n",
       "/* Toggleable style: style used for estimator/Pipeline/ColumnTransformer box that is\n",
       "clickable and can be expanded/collapsed.\n",
       "- Pipeline and ColumnTransformer use this feature and define the default style\n",
       "- Estimators will overwrite some part of the style using the `sk-estimator` class\n",
       "*/\n",
       "\n",
       "/* Pipeline and ColumnTransformer style (default) */\n",
       "\n",
       "#sk-container-id-2 div.sk-toggleable {\n",
       "  /* Default theme specific background. It is overwritten whether we have a\n",
       "  specific estimator or a Pipeline/ColumnTransformer */\n",
       "  background-color: var(--sklearn-color-background);\n",
       "}\n",
       "\n",
       "/* Toggleable label */\n",
       "#sk-container-id-2 label.sk-toggleable__label {\n",
       "  cursor: pointer;\n",
       "  display: block;\n",
       "  width: 100%;\n",
       "  margin-bottom: 0;\n",
       "  padding: 0.5em;\n",
       "  box-sizing: border-box;\n",
       "  text-align: center;\n",
       "}\n",
       "\n",
       "#sk-container-id-2 label.sk-toggleable__label-arrow:before {\n",
       "  /* Arrow on the left of the label */\n",
       "  content: \"▸\";\n",
       "  float: left;\n",
       "  margin-right: 0.25em;\n",
       "  color: var(--sklearn-color-icon);\n",
       "}\n",
       "\n",
       "#sk-container-id-2 label.sk-toggleable__label-arrow:hover:before {\n",
       "  color: var(--sklearn-color-text);\n",
       "}\n",
       "\n",
       "/* Toggleable content - dropdown */\n",
       "\n",
       "#sk-container-id-2 div.sk-toggleable__content {\n",
       "  max-height: 0;\n",
       "  max-width: 0;\n",
       "  overflow: hidden;\n",
       "  text-align: left;\n",
       "  /* unfitted */\n",
       "  background-color: var(--sklearn-color-unfitted-level-0);\n",
       "}\n",
       "\n",
       "#sk-container-id-2 div.sk-toggleable__content.fitted {\n",
       "  /* fitted */\n",
       "  background-color: var(--sklearn-color-fitted-level-0);\n",
       "}\n",
       "\n",
       "#sk-container-id-2 div.sk-toggleable__content pre {\n",
       "  margin: 0.2em;\n",
       "  border-radius: 0.25em;\n",
       "  color: var(--sklearn-color-text);\n",
       "  /* unfitted */\n",
       "  background-color: var(--sklearn-color-unfitted-level-0);\n",
       "}\n",
       "\n",
       "#sk-container-id-2 div.sk-toggleable__content.fitted pre {\n",
       "  /* unfitted */\n",
       "  background-color: var(--sklearn-color-fitted-level-0);\n",
       "}\n",
       "\n",
       "#sk-container-id-2 input.sk-toggleable__control:checked~div.sk-toggleable__content {\n",
       "  /* Expand drop-down */\n",
       "  max-height: 200px;\n",
       "  max-width: 100%;\n",
       "  overflow: auto;\n",
       "}\n",
       "\n",
       "#sk-container-id-2 input.sk-toggleable__control:checked~label.sk-toggleable__label-arrow:before {\n",
       "  content: \"▾\";\n",
       "}\n",
       "\n",
       "/* Pipeline/ColumnTransformer-specific style */\n",
       "\n",
       "#sk-container-id-2 div.sk-label input.sk-toggleable__control:checked~label.sk-toggleable__label {\n",
       "  color: var(--sklearn-color-text);\n",
       "  background-color: var(--sklearn-color-unfitted-level-2);\n",
       "}\n",
       "\n",
       "#sk-container-id-2 div.sk-label.fitted input.sk-toggleable__control:checked~label.sk-toggleable__label {\n",
       "  background-color: var(--sklearn-color-fitted-level-2);\n",
       "}\n",
       "\n",
       "/* Estimator-specific style */\n",
       "\n",
       "/* Colorize estimator box */\n",
       "#sk-container-id-2 div.sk-estimator input.sk-toggleable__control:checked~label.sk-toggleable__label {\n",
       "  /* unfitted */\n",
       "  background-color: var(--sklearn-color-unfitted-level-2);\n",
       "}\n",
       "\n",
       "#sk-container-id-2 div.sk-estimator.fitted input.sk-toggleable__control:checked~label.sk-toggleable__label {\n",
       "  /* fitted */\n",
       "  background-color: var(--sklearn-color-fitted-level-2);\n",
       "}\n",
       "\n",
       "#sk-container-id-2 div.sk-label label.sk-toggleable__label,\n",
       "#sk-container-id-2 div.sk-label label {\n",
       "  /* The background is the default theme color */\n",
       "  color: var(--sklearn-color-text-on-default-background);\n",
       "}\n",
       "\n",
       "/* On hover, darken the color of the background */\n",
       "#sk-container-id-2 div.sk-label:hover label.sk-toggleable__label {\n",
       "  color: var(--sklearn-color-text);\n",
       "  background-color: var(--sklearn-color-unfitted-level-2);\n",
       "}\n",
       "\n",
       "/* Label box, darken color on hover, fitted */\n",
       "#sk-container-id-2 div.sk-label.fitted:hover label.sk-toggleable__label.fitted {\n",
       "  color: var(--sklearn-color-text);\n",
       "  background-color: var(--sklearn-color-fitted-level-2);\n",
       "}\n",
       "\n",
       "/* Estimator label */\n",
       "\n",
       "#sk-container-id-2 div.sk-label label {\n",
       "  font-family: monospace;\n",
       "  font-weight: bold;\n",
       "  display: inline-block;\n",
       "  line-height: 1.2em;\n",
       "}\n",
       "\n",
       "#sk-container-id-2 div.sk-label-container {\n",
       "  text-align: center;\n",
       "}\n",
       "\n",
       "/* Estimator-specific */\n",
       "#sk-container-id-2 div.sk-estimator {\n",
       "  font-family: monospace;\n",
       "  border: 1px dotted var(--sklearn-color-border-box);\n",
       "  border-radius: 0.25em;\n",
       "  box-sizing: border-box;\n",
       "  margin-bottom: 0.5em;\n",
       "  /* unfitted */\n",
       "  background-color: var(--sklearn-color-unfitted-level-0);\n",
       "}\n",
       "\n",
       "#sk-container-id-2 div.sk-estimator.fitted {\n",
       "  /* fitted */\n",
       "  background-color: var(--sklearn-color-fitted-level-0);\n",
       "}\n",
       "\n",
       "/* on hover */\n",
       "#sk-container-id-2 div.sk-estimator:hover {\n",
       "  /* unfitted */\n",
       "  background-color: var(--sklearn-color-unfitted-level-2);\n",
       "}\n",
       "\n",
       "#sk-container-id-2 div.sk-estimator.fitted:hover {\n",
       "  /* fitted */\n",
       "  background-color: var(--sklearn-color-fitted-level-2);\n",
       "}\n",
       "\n",
       "/* Specification for estimator info (e.g. \"i\" and \"?\") */\n",
       "\n",
       "/* Common style for \"i\" and \"?\" */\n",
       "\n",
       ".sk-estimator-doc-link,\n",
       "a:link.sk-estimator-doc-link,\n",
       "a:visited.sk-estimator-doc-link {\n",
       "  float: right;\n",
       "  font-size: smaller;\n",
       "  line-height: 1em;\n",
       "  font-family: monospace;\n",
       "  background-color: var(--sklearn-color-background);\n",
       "  border-radius: 1em;\n",
       "  height: 1em;\n",
       "  width: 1em;\n",
       "  text-decoration: none !important;\n",
       "  margin-left: 1ex;\n",
       "  /* unfitted */\n",
       "  border: var(--sklearn-color-unfitted-level-1) 1pt solid;\n",
       "  color: var(--sklearn-color-unfitted-level-1);\n",
       "}\n",
       "\n",
       ".sk-estimator-doc-link.fitted,\n",
       "a:link.sk-estimator-doc-link.fitted,\n",
       "a:visited.sk-estimator-doc-link.fitted {\n",
       "  /* fitted */\n",
       "  border: var(--sklearn-color-fitted-level-1) 1pt solid;\n",
       "  color: var(--sklearn-color-fitted-level-1);\n",
       "}\n",
       "\n",
       "/* On hover */\n",
       "div.sk-estimator:hover .sk-estimator-doc-link:hover,\n",
       ".sk-estimator-doc-link:hover,\n",
       "div.sk-label-container:hover .sk-estimator-doc-link:hover,\n",
       ".sk-estimator-doc-link:hover {\n",
       "  /* unfitted */\n",
       "  background-color: var(--sklearn-color-unfitted-level-3);\n",
       "  color: var(--sklearn-color-background);\n",
       "  text-decoration: none;\n",
       "}\n",
       "\n",
       "div.sk-estimator.fitted:hover .sk-estimator-doc-link.fitted:hover,\n",
       ".sk-estimator-doc-link.fitted:hover,\n",
       "div.sk-label-container:hover .sk-estimator-doc-link.fitted:hover,\n",
       ".sk-estimator-doc-link.fitted:hover {\n",
       "  /* fitted */\n",
       "  background-color: var(--sklearn-color-fitted-level-3);\n",
       "  color: var(--sklearn-color-background);\n",
       "  text-decoration: none;\n",
       "}\n",
       "\n",
       "/* Span, style for the box shown on hovering the info icon */\n",
       ".sk-estimator-doc-link span {\n",
       "  display: none;\n",
       "  z-index: 9999;\n",
       "  position: relative;\n",
       "  font-weight: normal;\n",
       "  right: .2ex;\n",
       "  padding: .5ex;\n",
       "  margin: .5ex;\n",
       "  width: min-content;\n",
       "  min-width: 20ex;\n",
       "  max-width: 50ex;\n",
       "  color: var(--sklearn-color-text);\n",
       "  box-shadow: 2pt 2pt 4pt #999;\n",
       "  /* unfitted */\n",
       "  background: var(--sklearn-color-unfitted-level-0);\n",
       "  border: .5pt solid var(--sklearn-color-unfitted-level-3);\n",
       "}\n",
       "\n",
       ".sk-estimator-doc-link.fitted span {\n",
       "  /* fitted */\n",
       "  background: var(--sklearn-color-fitted-level-0);\n",
       "  border: var(--sklearn-color-fitted-level-3);\n",
       "}\n",
       "\n",
       ".sk-estimator-doc-link:hover span {\n",
       "  display: block;\n",
       "}\n",
       "\n",
       "/* \"?\"-specific style due to the `<a>` HTML tag */\n",
       "\n",
       "#sk-container-id-2 a.estimator_doc_link {\n",
       "  float: right;\n",
       "  font-size: 1rem;\n",
       "  line-height: 1em;\n",
       "  font-family: monospace;\n",
       "  background-color: var(--sklearn-color-background);\n",
       "  border-radius: 1rem;\n",
       "  height: 1rem;\n",
       "  width: 1rem;\n",
       "  text-decoration: none;\n",
       "  /* unfitted */\n",
       "  color: var(--sklearn-color-unfitted-level-1);\n",
       "  border: var(--sklearn-color-unfitted-level-1) 1pt solid;\n",
       "}\n",
       "\n",
       "#sk-container-id-2 a.estimator_doc_link.fitted {\n",
       "  /* fitted */\n",
       "  border: var(--sklearn-color-fitted-level-1) 1pt solid;\n",
       "  color: var(--sklearn-color-fitted-level-1);\n",
       "}\n",
       "\n",
       "/* On hover */\n",
       "#sk-container-id-2 a.estimator_doc_link:hover {\n",
       "  /* unfitted */\n",
       "  background-color: var(--sklearn-color-unfitted-level-3);\n",
       "  color: var(--sklearn-color-background);\n",
       "  text-decoration: none;\n",
       "}\n",
       "\n",
       "#sk-container-id-2 a.estimator_doc_link.fitted:hover {\n",
       "  /* fitted */\n",
       "  background-color: var(--sklearn-color-fitted-level-3);\n",
       "}\n",
       "</style><div id=\"sk-container-id-2\" class=\"sk-top-container\"><div class=\"sk-text-repr-fallback\"><pre>SGDClassifier(random_state=42)</pre><b>In a Jupyter environment, please rerun this cell to show the HTML representation or trust the notebook. <br />On GitHub, the HTML representation is unable to render, please try loading this page with nbviewer.org.</b></div><div class=\"sk-container\" hidden><div class=\"sk-item\"><div class=\"sk-estimator fitted sk-toggleable\"><input class=\"sk-toggleable__control sk-hidden--visually\" id=\"sk-estimator-id-2\" type=\"checkbox\" checked><label for=\"sk-estimator-id-2\" class=\"sk-toggleable__label fitted sk-toggleable__label-arrow fitted\">&nbsp;&nbsp;SGDClassifier<a class=\"sk-estimator-doc-link fitted\" rel=\"noreferrer\" target=\"_blank\" href=\"https://scikit-learn.org/1.5/modules/generated/sklearn.linear_model.SGDClassifier.html\">?<span>Documentation for SGDClassifier</span></a><span class=\"sk-estimator-doc-link fitted\">i<span>Fitted</span></span></label><div class=\"sk-toggleable__content fitted\"><pre>SGDClassifier(random_state=42)</pre></div> </div></div></div></div>"
      ],
      "text/plain": [
       "SGDClassifier(random_state=42)"
      ]
     },
     "execution_count": 95,
     "metadata": {},
     "output_type": "execute_result"
    }
   ],
   "source": [
    "sgd_clf = SGDClassifier(random_state=42)\n",
    "sgd_clf.fit(X_train, y_train5)"
   ]
  },
  {
   "cell_type": "code",
   "execution_count": 96,
   "metadata": {},
   "outputs": [
    {
     "name": "stderr",
     "output_type": "stream",
     "text": [
      "/Library/Frameworks/Python.framework/Versions/3.11/lib/python3.11/site-packages/sklearn/base.py:493: UserWarning: X does not have valid feature names, but SGDClassifier was fitted with feature names\n",
      "  warnings.warn(\n"
     ]
    },
    {
     "data": {
      "text/plain": [
       "array([ True])"
      ]
     },
     "execution_count": 96,
     "metadata": {},
     "output_type": "execute_result"
    }
   ],
   "source": [
    "sgd_clf.predict([some_digit])"
   ]
  },
  {
   "cell_type": "markdown",
   "metadata": {},
   "source": [
    "## 1-2 성능 측정하기"
   ]
  },
  {
   "cell_type": "code",
   "execution_count": 108,
   "metadata": {},
   "outputs": [],
   "source": [
    "from sklearn.model_selection import StratifiedKFold\n",
    "from sklearn.base import clone"
   ]
  },
  {
   "cell_type": "markdown",
   "metadata": {},
   "source": [
    "cross_val_score() 메서드를 사용하지 않고 교차검증을 직접구현하면 아래와 같이 만들 수 있다.  \n",
    "(교차검증로직을 커스텀하거나 조금 더 많은 부분을 제어하고 싶을때!)"
   ]
  },
  {
   "cell_type": "code",
   "execution_count": 112,
   "metadata": {},
   "outputs": [
    {
     "name": "stdout",
     "output_type": "stream",
     "text": [
      "0.9669\n",
      "0.91625\n",
      "0.96785\n"
     ]
    }
   ],
   "source": [
    "skfolds = StratifiedKFold(n_splits=3, random_state=42, shuffle=True)\n",
    "\n",
    "for train_index, test_index in skfolds.split(X_train, y_train5):\n",
    "    clone_clf = clone(sgd_clf)\n",
    "    X_train_folds = X_train.iloc[train_index]\n",
    "    y_train5_folds = y_train5.iloc[train_index]\n",
    "    X_test_fold = X_train.iloc[test_index]\n",
    "    y_test_fold = y_train5.iloc[test_index]\n",
    "\n",
    "    clone_clf.fit(X_train_folds, y_train5_folds)\n",
    "    y_pred = clone_clf.predict(X_test_fold)\n",
    "    n_correct = sum(y_pred == y_test_fold)\n",
    "    print(n_correct / len(y_pred))\n",
    "        "
   ]
  },
  {
   "cell_type": "markdown",
   "metadata": {},
   "source": [
    "cross_val_score( )메서드를 이용한 교차검증."
   ]
  },
  {
   "cell_type": "code",
   "execution_count": 113,
   "metadata": {},
   "outputs": [],
   "source": [
    "from sklearn.model_selection import cross_val_score\n"
   ]
  },
  {
   "cell_type": "code",
   "execution_count": 114,
   "metadata": {},
   "outputs": [
    {
     "data": {
      "text/plain": [
       "array([0.95035, 0.96035, 0.9604 ])"
      ]
     },
     "execution_count": 114,
     "metadata": {},
     "output_type": "execute_result"
    }
   ],
   "source": [
    "cross_val_score(sgd_clf, X_train, y_train5, cv=3, scoring=\"accuracy\")"
   ]
  },
  {
   "cell_type": "code",
   "execution_count": 116,
   "metadata": {},
   "outputs": [
    {
     "data": {
      "text/plain": [
       "array([0.91125, 0.90855, 0.90915])"
      ]
     },
     "execution_count": 116,
     "metadata": {},
     "output_type": "execute_result"
    }
   ],
   "source": [
    "from sklearn.base import BaseEstimator\n",
    "\n",
    "# 모든 답을 5가아님이라고 말하는 모델 생성\n",
    "class Never5Classifier(BaseEstimator):\n",
    "    def fit(self, X, y=None):\n",
    "        return self\n",
    "    def predict(self, X):\n",
    "        return np.zeros((len(X), 1), dtype=bool)\n",
    "\n",
    "never5_clf = Never5Classifier()\n",
    "cross_val_score(never5_clf, X_train, y_train5, cv=3, scoring=\"accuracy\")"
   ]
  },
  {
   "cell_type": "markdown",
   "metadata": {},
   "source": [
    "`불균형한 데이터셋`을 다룰때는 `정확도`는 분류기의 성능 지표로 사용하기 어렵다.  \n",
    "\n",
    "전부 5가 아니라고 예측해도 5가 아닌데이터가 90%이상이기때문에 정확도도 90% 이상이 나온다!"
   ]
  },
  {
   "cell_type": "markdown",
   "metadata": {},
   "source": [
    "## 1-3 오차행렬을 활용하자!"
   ]
  },
  {
   "cell_type": "code",
   "execution_count": 118,
   "metadata": {},
   "outputs": [],
   "source": [
    "from sklearn.model_selection import cross_val_predict"
   ]
  },
  {
   "cell_type": "code",
   "execution_count": 119,
   "metadata": {},
   "outputs": [],
   "source": [
    "y_train5_pred = cross_val_predict(sgd_clf, X_train, y_train5, cv=3)"
   ]
  },
  {
   "cell_type": "code",
   "execution_count": 120,
   "metadata": {},
   "outputs": [],
   "source": [
    "from sklearn.metrics import confusion_matrix"
   ]
  },
  {
   "cell_type": "code",
   "execution_count": 122,
   "metadata": {},
   "outputs": [
    {
     "data": {
      "text/plain": [
       "array([[53892,   687],\n",
       "       [ 1891,  3530]])"
      ]
     },
     "execution_count": 122,
     "metadata": {},
     "output_type": "execute_result"
    }
   ],
   "source": [
    "confusion_matrix(y_train5, y_train5_pred)"
   ]
  },
  {
   "cell_type": "code",
   "execution_count": 124,
   "metadata": {},
   "outputs": [],
   "source": [
    "from sklearn.metrics import precision_score, recall_score"
   ]
  },
  {
   "cell_type": "code",
   "execution_count": 126,
   "metadata": {},
   "outputs": [
    {
     "data": {
      "text/plain": [
       "np.float64(0.8370879772350012)"
      ]
     },
     "execution_count": 126,
     "metadata": {},
     "output_type": "execute_result"
    }
   ],
   "source": [
    "#정밀도 : 5라고 예측한 것(양성)중에 5라고 맞춘것\n",
    "precision_score(y_train5, y_train5_pred)"
   ]
  },
  {
   "cell_type": "code",
   "execution_count": 127,
   "metadata": {},
   "outputs": [
    {
     "data": {
      "text/plain": [
       "np.float64(0.6511713705958311)"
      ]
     },
     "execution_count": 127,
     "metadata": {},
     "output_type": "execute_result"
    }
   ],
   "source": [
    "#재현율 : 실제 5인 결과중에 올바르게 예측된 것\n",
    "recall_score(y_train5, y_train5_pred)"
   ]
  },
  {
   "cell_type": "code",
   "execution_count": 128,
   "metadata": {},
   "outputs": [],
   "source": [
    "from sklearn.metrics import f1_score"
   ]
  },
  {
   "cell_type": "code",
   "execution_count": 129,
   "metadata": {},
   "outputs": [
    {
     "data": {
      "text/plain": [
       "np.float64(0.7325171197343847)"
      ]
     },
     "execution_count": 129,
     "metadata": {},
     "output_type": "execute_result"
    }
   ],
   "source": [
    "#f1_score : 정밀도, 재현율의 조화평균\n",
    "#정밀도와 재현율이 비슷한 분류기에서는 F1의 점수가 높다. 하지만 이것이 항상 바람직한 것은 아니다.\n",
    "#상황에 따라 정밀도가 중요할수도, 재현율이 중요할 수 도 있다.\n",
    "f1_score(y_train5, y_train5_pred)"
   ]
  },
  {
   "cell_type": "code",
   "execution_count": 132,
   "metadata": {},
   "outputs": [
    {
     "name": "stderr",
     "output_type": "stream",
     "text": [
      "/Library/Frameworks/Python.framework/Versions/3.11/lib/python3.11/site-packages/sklearn/base.py:493: UserWarning: X does not have valid feature names, but SGDClassifier was fitted with feature names\n",
      "  warnings.warn(\n"
     ]
    },
    {
     "data": {
      "text/plain": [
       "array([2164.22030239])"
      ]
     },
     "execution_count": 132,
     "metadata": {},
     "output_type": "execute_result"
    }
   ],
   "source": [
    "y_scores = sgd_clf.decision_function([some_digit])\n",
    "y_scores"
   ]
  },
  {
   "cell_type": "code",
   "execution_count": 136,
   "metadata": {},
   "outputs": [],
   "source": [
    "y_scores = cross_val_predict(sgd_clf, X_train, y_train5, cv=3, method=\"decision_function\")"
   ]
  },
  {
   "cell_type": "code",
   "execution_count": 137,
   "metadata": {},
   "outputs": [
    {
     "data": {
      "text/plain": [
       "array([  1200.93051237, -26883.79202424, -33072.03475406, ...,\n",
       "        13272.12718981,  -7258.47203373, -16877.50840447])"
      ]
     },
     "execution_count": 137,
     "metadata": {},
     "output_type": "execute_result"
    }
   ],
   "source": [
    "y_scores"
   ]
  },
  {
   "cell_type": "code",
   "execution_count": 138,
   "metadata": {},
   "outputs": [],
   "source": [
    "from sklearn.metrics import precision_recall_curve\n",
    "\n",
    "precision, recalls, threshold = precision_recall_curve(y_train5, y_scores)"
   ]
  },
  {
   "cell_type": "code",
   "execution_count": 164,
   "metadata": {},
   "outputs": [
    {
     "name": "stdout",
     "output_type": "stream",
     "text": [
      "['/System/Library/AssetsV2/com_apple_MobileAsset_Font7/96af7ec9e88d5dae450d3162213f92a7b1129430.asset/AssetData/YuppySC-Regular.otf', '/System/Library/Fonts/Supplemental/Copperplate.ttc', '/System/Library/Fonts/Supplemental/NotoSansMandaic-Regular.ttf', '/System/Library/Fonts/GeezaPro.ttc', '/System/Library/Fonts/Supplemental/Kefa.ttc', '/System/Library/AssetsV2/com_apple_MobileAsset_Font7/aa99d0b2bad7f797f38b49d46cde28fd4b58876e.asset/AssetData/Xingkai.ttc', '/System/Library/Fonts/Supplemental/Damascus.ttc', '/System/Library/Fonts/Supplemental/NotoSansKhudawadi-Regular.ttf', '/System/Library/Fonts/Supplemental/STIXIntSmReg.otf', '/System/Library/Fonts/Supplemental/Tamil MN.ttc', '/Users/geunskoo/Library/Fonts/Pretendard-ExtraBold.ttf', '/Users/geunskoo/Library/Fonts/D2CodingBold-Ver1.3.2-20180524.ttf', '/System/Library/AssetsV2/com_apple_MobileAsset_Font7/988d97c87efe350cfa398b9ae4e822431f92d59b.asset/AssetData/Srisakdi.ttc', '/System/Library/Fonts/Supplemental/NotoSansHatran-Regular.ttf', '/System/Library/Fonts/Apple Braille Pinpoint 8 Dot.ttf', '/System/Library/Fonts/Supplemental/NotoSansBhaiksuki-Regular.ttf', '/System/Library/AssetsV2/com_apple_MobileAsset_Font7/5fb3a06cb28690aa74109ccf9fddce32d1dea4c9.asset/AssetData/JainiPurvaDevanagari-Regular.ttf', '/System/Library/Fonts/Supplemental/NotoSansPauCinHau-Regular.ttf', '/System/Library/AssetsV2/com_apple_MobileAsset_Font7/0818d874bf1d0e24a1fe62e79f407717792c5ee1.asset/AssetData/OsakaMono.ttf', '/System/Library/Fonts/Apple Braille.ttf', '/System/Library/Fonts/Supplemental/Arial Narrow.ttf', '/System/Library/Fonts/Supplemental/Hoefler Text.ttc', '/System/Library/Fonts/Supplemental/Kokonor.ttf', '/System/Library/AssetsV2/com_apple_MobileAsset_Font7/584ea2a48d14147049c2f9eaee147fe5a1f279ac.asset/AssetData/BiauKai.ttc', '/System/Library/Fonts/NotoSansMyanmar.ttc', '/System/Library/Fonts/Supplemental/SuperClarendon.ttc', '/System/Library/Fonts/STHeiti Light.ttc', '/System/Library/Fonts/SFCompactRounded.ttf', '/System/Library/Fonts/Supplemental/NotoSansInscriptionalParthian-Regular.ttf', '/System/Library/Fonts/Geneva.ttf', '/System/Library/AssetsV2/com_apple_MobileAsset_Font7/9fa3dd293157a9cbef8a68aadd2220f01153c564.asset/AssetData/SamaGujarati.ttc', '/System/Library/Fonts/Supplemental/Courier New Bold.ttf', '/System/Library/Fonts/Supplemental/Chalkduster.ttf', '/System/Library/Fonts/Supplemental/NotoSansEgyptianHieroglyphs-Regular.ttf', '/System/Library/Fonts/KohinoorBangla.ttc', '/System/Library/Fonts/Supplemental/NotoSansOldHungarian-Regular.ttf', '/System/Library/AssetsV2/com_apple_MobileAsset_Font7/cd59971ded42add9070aa2172265ba7fcf8d9327.asset/AssetData/BMKirangHaerang-Regular.otf', '/System/Library/AssetsV2/com_apple_MobileAsset_Font7/7cc6c684c40b997bfac55b2647ca929ca521792d.asset/AssetData/MuktaMalar-Tamil.ttc', '/System/Library/Fonts/ヒラギノ角ゴシック W3.ttc', '/System/Library/Fonts/Supplemental/Wingdings 2.ttf', '/System/Library/Fonts/Supplemental/Wingdings 3.ttf', '/System/Library/Fonts/Supplemental/STIXGeneralBol.otf', '/System/Library/Fonts/ヒラギノ角ゴシック W4.ttc', '/System/Library/Fonts/Supplemental/Verdana Italic.ttf', '/System/Library/Fonts/Supplemental/Arial Italic.ttf', '/System/Library/Fonts/ADTNumeric.ttc', '/System/Library/AssetsV2/com_apple_MobileAsset_Font7/3bb2b094c32bc9d099cf35991196533643e07a1b.asset/AssetData/Kavivanar-regular.ttf', '/System/Library/Fonts/Supplemental/NotoSansKaithi-Regular.ttf', '/System/Library/Fonts/NotoSansKannada.ttc', '/System/Library/Fonts/Supplemental/Zapfino.ttf', '/System/Library/Fonts/Supplemental/Papyrus.ttc', '/Library/Fonts/Arial Unicode.ttf', '/System/Library/Fonts/Supplemental/Bodoni Ornaments.ttf', '/System/Library/Fonts/Supplemental/Tahoma Bold.ttf', '/System/Library/Fonts/Supplemental/Comic Sans MS Bold.ttf', '/System/Library/Fonts/Supplemental/NotoSansBamum-Regular.ttf', '/System/Library/Fonts/Supplemental/Sinhala MN.ttc', '/System/Library/Fonts/Supplemental/DIN Alternate Bold.ttf', '/System/Library/Fonts/Supplemental/STIXNonUniIta.otf', '/System/Library/AssetsV2/com_apple_MobileAsset_Font7/1a719bcd2deb780a1442d66d91b276c4764ad924.asset/AssetData/ArimaMadurai.ttc', '/System/Library/Fonts/Supplemental/Rockwell.ttc', '/System/Library/Fonts/Supplemental/Skia.ttf', '/System/Library/AssetsV2/com_apple_MobileAsset_Font7/c2cf5e684236b5395fd48d6ccf0e3b3191ce83a0.asset/AssetData/PCmyoungjo.ttf', '/System/Library/Fonts/Supplemental/PTSerifCaption.ttc', '/System/Library/Fonts/Supplemental/Trebuchet MS Italic.ttf', '/System/Library/Fonts/SFGeorgianRounded.ttf', '/System/Library/AssetsV2/com_apple_MobileAsset_Font7/32d11e548996658757774d88f9220993653017ea.asset/AssetData/Hiragino_Sans_CNS.ttc', '/Users/geunskoo/Library/Fonts/D2Coding-Ver1.3.2-20180524-ligature.ttc', '/System/Library/Fonts/Supplemental/NotoSansOldNorthArabian-Regular.ttf', '/System/Library/Fonts/Supplemental/NotoSansMultani-Regular.ttf', '/System/Library/AssetsV2/com_apple_MobileAsset_Font7/7278ac2566252649b05c5a2b07c7d45be59f47c5.asset/AssetData/Libian.ttc', '/System/Library/Fonts/Supplemental/NotoSansDuployan-Regular.ttf', '/System/Library/Fonts/Supplemental/Herculanum.ttf', '/System/Library/Fonts/Supplemental/Arial Narrow Italic.ttf', '/System/Library/Fonts/Supplemental/NotoSansGothic-Regular.ttf', '/System/Library/AssetsV2/com_apple_MobileAsset_Font7/03ce8a6a994397529bab88a27142df0f925e4d47.asset/AssetData/SamaDevanagari.ttc', '/Users/geunskoo/Library/Fonts/D2Coding.ttf', '/System/Library/Fonts/Supplemental/NotoSansNewa-Regular.ttf', '/System/Library/Fonts/Supplemental/NotoSansBuhid-Regular.ttf', '/System/Library/Fonts/Avenir Next Condensed.ttc', '/System/Library/Fonts/Supplemental/STIXIntUpBol.otf', '/System/Library/Fonts/Supplemental/Mishafi.ttf', '/System/Library/AssetsV2/com_apple_MobileAsset_Font7/62032b9b64a0e3a9121c50aeb2ed794e3e2c201f.asset/AssetData/Hei.ttf', '/System/Library/Fonts/Supplemental/NotoSansSamaritan-Regular.ttf', '/System/Library/AssetsV2/com_apple_MobileAsset_Font7/de97612eef4e3cf8ee8e5c0ebd6fd879bbecd23a.asset/AssetData/AppleLiGothic-Medium.ttf', '/System/Library/Fonts/ZapfDingbats.ttf', '/System/Library/Fonts/Supplemental/STIXIntUpSmReg.otf', '/System/Library/AssetsV2/com_apple_MobileAsset_Font7/ad8c3bb76851adc11dc4772c1a7a00caf83e3037.asset/AssetData/Ornanong.ttc', '/System/Library/Fonts/Supplemental/Gurmukhi MN.ttc', '/System/Library/Fonts/Supplemental/STIXVar.otf', '/System/Library/Fonts/Supplemental/Arial Narrow Bold.ttf', '/System/Library/Fonts/Supplemental/Sathu.ttf', '/System/Library/Fonts/ヒラギノ丸ゴ ProN W4.ttc', '/System/Library/Fonts/Supplemental/NotoSansOldItalic-Regular.ttf', '/System/Library/Fonts/Supplemental/Courier New Bold Italic.ttf', '/System/Library/Fonts/Supplemental/STIXSizFiveSymReg.otf', '/System/Library/Fonts/SFHebrew.ttf', '/System/Library/Fonts/Supplemental/NotoSansYi-Regular.ttf', '/System/Library/Fonts/Supplemental/NotoSansOldPermic-Regular.ttf', '/System/Library/Fonts/Noteworthy.ttc', '/System/Library/Fonts/ThonburiUI.ttc', '/System/Library/AssetsV2/com_apple_MobileAsset_Font7/3a9dbc8ddc8b85f43055a28fb5d551e905d43de2.asset/AssetData/LiHeiPro.ttf', '/System/Library/Fonts/Supplemental/NotoSansMendeKikakui-Regular.ttf', '/System/Library/Fonts/Supplemental/Iowan Old Style.ttc', '/System/Library/Fonts/Supplemental/STIXSizThreeSymBol.otf', '/System/Library/Fonts/Supplemental/NotoSansOsmanya-Regular.ttf', '/System/Library/Fonts/Supplemental/STIXIntUpDReg.otf', '/System/Library/Fonts/Supplemental/NotoSansBuginese-Regular.ttf', '/System/Library/Fonts/Supplemental/Georgia Bold.ttf', '/System/Library/Fonts/Supplemental/EuphemiaCAS.ttc', '/System/Library/Fonts/Supplemental/Galvji.ttc', '/System/Library/Fonts/ヒラギノ明朝 ProN.ttc', '/System/Library/AssetsV2/com_apple_MobileAsset_Font7/954067d7de5410e26458eab6f06544bd01eda474.asset/AssetData/TiroHindi.ttc', '/System/Library/Fonts/Menlo.ttc', '/System/Library/Fonts/Supplemental/Silom.ttf', '/System/Library/Fonts/Supplemental/STIXSizFourSymBol.otf', '/System/Library/AssetsV2/com_apple_MobileAsset_Font7/a3f9a9e35bdf3babe03b2fd162051306fad439d6.asset/AssetData/Osaka.ttf', '/System/Library/Fonts/Supplemental/NotoSansModi-Regular.ttf', '/System/Library/AssetsV2/com_apple_MobileAsset_Font7/f9a4c1730c4f26e42090255f39b31690a7c242a6.asset/AssetData/BalooBhainaOdia.ttc', '/System/Library/Fonts/Supplemental/STIXGeneralItalic.otf', '/System/Library/Fonts/NotoSansOriya.ttc', '/System/Library/Fonts/Supplemental/NotoSansSyriac-Regular.ttf', '/System/Library/Fonts/Supplemental/NotoSansMongolian-Regular.ttf', '/System/Library/Fonts/Supplemental/Wingdings.ttf', '/System/Library/AssetsV2/com_apple_MobileAsset_Font7/938fc4f0524ec9f143f1b39a4e63ff9585298376.asset/AssetData/ToppanBunkyuMidashiGothicStdN-ExtraBold.otf', '/System/Library/Fonts/SFNSMonoItalic.ttf', '/System/Library/Fonts/Supplemental/NotoSansNabataean-Regular.ttf', '/System/Library/Fonts/Supplemental/STIXIntUpDBol.otf', '/System/Library/Fonts/Supplemental/NotoSansOldTurkic-Regular.ttf', '/System/Library/AssetsV2/com_apple_MobileAsset_Font7/42062e40d643fdb5bb3fba917212352fb0690de0.asset/AssetData/YuGothic-Bold.otf', '/System/Library/Fonts/Supplemental/Gujarati Sangam MN.ttc', '/System/Library/Fonts/Supplemental/NotoSansKhojki-Regular.ttf', '/Users/geunskoo/Library/Fonts/Pretendard-Regular.ttf', '/System/Library/AssetsV2/com_apple_MobileAsset_Font7/28f00a24ba19995bab7249993e6e35d11011074a.asset/AssetData/Kai.ttf', '/System/Library/AssetsV2/com_apple_MobileAsset_Font7/e23704ffef04f1174546b50c3b72c2f576fc8fd4.asset/AssetData/BalooTammaKannada.ttc', '/System/Library/Fonts/Supplemental/Waseem.ttc', '/System/Library/AssetsV2/com_apple_MobileAsset_Font7/b5cd62c080c3cc166539f94ad705f5b7f0321a38.asset/AssetData/TiroTamil.ttc', '/System/Library/Fonts/Supplemental/NotoSansMeeteiMayek-Regular.ttf', '/System/Library/AssetsV2/com_apple_MobileAsset_Font7/5a3fc034b64879656271c040cab38b65d4ea6548.asset/AssetData/LiSongPro.ttf', '/System/Library/Fonts/Supplemental/Seravek.ttc', '/System/Library/Fonts/Avenir.ttc', '/System/Library/Fonts/Avenir Next.ttc', '/System/Library/Fonts/Supplemental/Georgia.ttf', '/System/Library/AssetsV2/com_apple_MobileAsset_Font7/e28431125242b9a298de3296370abdab4a7e8666.asset/AssetData/YuppyTC-Regular.otf', '/System/Library/Fonts/Supplemental/Trattatello.ttf', '/System/Library/AssetsV2/com_apple_MobileAsset_Font7/f879347736afb6e4e0880bcede9df92492c0f040.asset/AssetData/Gungseouche.ttf', '/System/Library/AssetsV2/com_apple_MobileAsset_Font7/9fdda46cbe802833590494a09b2787378340c597.asset/AssetData/Hanzipen.ttc', '/System/Library/Fonts/Supplemental/Muna.ttc', '/System/Library/Fonts/ヒラギノ角ゴシック W6.ttc', '/System/Library/Fonts/Optima.ttc', '/System/Library/AssetsV2/com_apple_MobileAsset_Font7/bcc10b55c3b7418fc5920165ff7ae57b098762f0.asset/AssetData/OctoberCondensedDevanagari.ttc', '/System/Library/Fonts/Supplemental/NotoSansPalmyrene-Regular.ttf', '/System/Library/AssetsV2/com_apple_MobileAsset_Font7/e11e5aeb7967c50ca39eca475b77f36da411ca67.asset/AssetData/Katari.ttc', '/System/Library/AssetsV2/com_apple_MobileAsset_Font7/9d609221be9203a6d0e55f5117ff76246f4200a7.asset/AssetData/Mali.ttc', '/System/Library/Fonts/Supplemental/NotoSansSoraSompeng-Regular.ttf', '/System/Library/Fonts/Supplemental/NotoSansNKo-Regular.ttf', '/System/Library/AssetsV2/com_apple_MobileAsset_Font7/c39bb000ee8346030de447218a19e8a37c901b3c.asset/AssetData/TiroMarathi.ttc', '/System/Library/Fonts/Supplemental/KufiStandardGK.ttc', '/System/Library/Fonts/Apple Symbols.ttf', '/System/Library/Fonts/Supplemental/Brush Script.ttf', '/System/Library/AssetsV2/com_apple_MobileAsset_Font7/d7d512f49387f96799ae9271c7fa8f8e9fef05d1.asset/AssetData/BIZ_UDGothic.ttc', '/System/Library/AssetsV2/com_apple_MobileAsset_Font7/a4c319bf6b27682fd9b5dae0b4b3160afc4a37e3.asset/AssetData/AkayaKannada-regular.ttf', '/System/Library/Fonts/Supplemental/Courier New Italic.ttf', '/System/Library/Fonts/Supplemental/Bangla MN.ttc', '/System/Library/Fonts/MuktaMahee.ttc', '/System/Library/Fonts/SFArabic.ttf', '/System/Library/Fonts/Supplemental/Didot.ttc', '/System/Library/AssetsV2/com_apple_MobileAsset_Font7/34fead973f6b219177a77839ad8f341551fc495f.asset/AssetData/Niramit.ttc', '/System/Library/Fonts/Supplemental/Chalkboard.ttc', '/System/Library/Fonts/Supplemental/NotoSansImperialAramaic-Regular.ttf', '/System/Library/AssetsV2/com_apple_MobileAsset_Font7/857d6c90171c328a4892c1492291d34e401d7f25.asset/AssetData/SimSong.ttc', '/System/Library/AssetsV2/com_apple_MobileAsset_Font7/85a00d3ffd845112afa9bfd08f0684b4d2647734.asset/AssetData/AdelleSans.ttc', '/System/Library/Fonts/ヒラギノ角ゴシック W9.ttc', '/System/Library/Fonts/Supplemental/ITFDevanagari.ttc', '/System/Library/Fonts/Supplemental/NotoSansTagalog-Regular.ttf', '/System/Library/Fonts/Supplemental/NotoSansWarangCiti-Regular.ttf', '/System/Library/Fonts/Supplemental/Comic Sans MS.ttf', '/System/Library/Fonts/Supplemental/BigCaslon.ttf', '/System/Library/Fonts/Supplemental/NotoSansGunjalaGondi-Regular.otf', '/System/Library/Fonts/ArialHB.ttc', '/System/Library/Fonts/Supplemental/Baghdad.ttc', '/System/Library/AssetsV2/com_apple_MobileAsset_Font7/8dc7805506cc9f233dcc19aabf593196842a47ae.asset/AssetData/Hannotate.ttc', '/System/Library/Fonts/Supplemental/PartyLET-plain.ttf', '/System/Library/AssetsV2/com_apple_MobileAsset_Font7/54ef167d6c8e99a69a0d41ce252cc5995ba47580.asset/AssetData/YuGothic-Medium.otf', '/System/Library/Fonts/SFCamera.ttf', '/System/Library/Fonts/Supplemental/Times New Roman.ttf', '/System/Library/AssetsV2/com_apple_MobileAsset_Font7/9d5450ee93f17da1eacfa01b5e7b598f9e2dda2b.asset/AssetData/Baoli.ttc', '/System/Library/Fonts/Symbol.ttf', '/System/Library/AssetsV2/com_apple_MobileAsset_Font7/5a224f093c7ff58ae98872248e5938769301bb72.asset/AssetData/BalooChettanMalayalam.ttc', '/System/Library/Fonts/Supplemental/Oriya Sangam MN.ttc', '/Users/geunskoo/Library/Fonts/Pretendard-Thin.ttf', '/System/Library/Fonts/Supplemental/Ayuthaya.ttf', '/System/Library/AssetsV2/com_apple_MobileAsset_Font7/f40f0181bac46ce79e53d040ad5075b8221f78e1.asset/AssetData/Charm.ttc', '/System/Library/Fonts/Supplemental/Tahoma.ttf', '/System/Library/Fonts/Supplemental/Arial Unicode.ttf', '/System/Library/AssetsV2/com_apple_MobileAsset_Font7/5f2614e7b55639e709d8578e16b324b3eb6eb065.asset/AssetData/BMHannaPro-Regular.otf', '/System/Library/Fonts/NewYorkItalic.ttf', '/System/Library/AssetsV2/com_apple_MobileAsset_Font7/5b2f5f0b003344b2c67ce463e76d2485bb43d054.asset/AssetData/BMJua-Regular.otf', '/System/Library/Fonts/Supplemental/NotoSansTagbanwa-Regular.ttf', '/System/Library/Fonts/Supplemental/STIXGeneralBolIta.otf', '/System/Library/Fonts/Supplemental/STIXSizOneSymBol.otf', '/System/Library/Fonts/Supplemental/NotoSansManichaean-Regular.ttf', '/System/Library/AssetsV2/com_apple_MobileAsset_Font7/26fae641eb2d1f672737dffcde972f770e1fe764.asset/AssetData/OctoberCondensedTamil.ttc', '/System/Library/Fonts/Supplemental/Sana.ttc', '/System/Library/Fonts/Supplemental/NotoSansTaiViet-Regular.ttf', '/System/Library/AssetsV2/com_apple_MobileAsset_Font7/46c64e73c0265cbea2433f097db969059f5f2895.asset/AssetData/BalooThambiTamil.ttc', '/System/Library/Fonts/Supplemental/PTMono.ttc', '/System/Library/AssetsV2/com_apple_MobileAsset_Font7/3a5aa4e05200beee4bc1b04d57fa73313178a508.asset/AssetData/LahoreGurmukhi.ttc', '/System/Library/AssetsV2/com_apple_MobileAsset_Font7/0f801573a81c766c0b812877c3cd6dc55ea67f05.asset/AssetData/SamaKannada.ttc', '/System/Library/Fonts/Supplemental/NotoSansSiddham-Regular.ttf', '/System/Library/Fonts/Supplemental/NotoSansTaiLe-Regular.ttf', '/System/Library/Fonts/Times.ttc', '/System/Library/AssetsV2/com_apple_MobileAsset_Font7/bad9b4bf17cf1669dde54184ba4431c22dcad27b.asset/AssetData/NanumGothic.ttc', '/System/Library/Fonts/Supplemental/Al Tarikh.ttc', '/System/Library/Fonts/Supplemental/NotoSansCypriot-Regular.ttf', '/System/Library/Fonts/Apple Braille Pinpoint 6 Dot.ttf', '/System/Library/AssetsV2/com_apple_MobileAsset_Font7/75aa8a3555ac606e1e0fe930fef4a1803105ae51.asset/AssetData/FahKwang.ttc', '/System/Library/Fonts/Supplemental/Malayalam MN.ttc', '/System/Library/Fonts/Supplemental/NotoSansChakma-Regular.ttf', '/System/Library/AssetsV2/com_apple_MobileAsset_Font7/f5d996f7384e5608c048c28789b094a6d28cccfd.asset/AssetData/MuktaVaani-Gujarati.ttc', '/System/Library/Fonts/LastResort.otf', '/System/Library/AssetsV2/com_apple_MobileAsset_Font7/18189590ed3a5f46cef20ed4d1cec2611dca13ff.asset/AssetData/WawaSC-Regular.otf', '/Users/geunskoo/Library/Fonts/Pretendard-Bold.ttf', '/System/Library/Fonts/SFNS.ttf', '/System/Library/Fonts/Supplemental/NotoSansBrahmi-Regular.ttf', '/Users/geunskoo/Library/Fonts/GmarketSansTTFLight.ttf', '/System/Library/Fonts/Supplemental/NotoSansLinearB-Regular.ttf', '/System/Library/AssetsV2/com_apple_MobileAsset_Font7/4cec0fab93a88d2448fed090966ef489adb6cfcc.asset/AssetData/Baijam.ttc', '/System/Library/Fonts/Supplemental/Diwan Kufi.ttc', '/System/Library/Fonts/Supplemental/Arial Bold Italic.ttf', '/Users/geunskoo/Library/Fonts/GmarketSansTTFMedium.ttf', '/System/Library/AssetsV2/com_apple_MobileAsset_Font7/6a8585b35d00d7d481a9cb6e02c81e84db1d75fb.asset/AssetData/Modak-Devanagari.ttf', '/Users/geunskoo/Library/Fonts/Pretendard-Black.ttf', '/System/Library/Fonts/Supplemental/Nadeem.ttc', '/System/Library/Fonts/Supplemental/NotoSansCaucasianAlbanian-Regular.ttf', '/System/Library/Fonts/Supplemental/DevanagariMT.ttc', '/System/Library/Fonts/Supplemental/NotoSansLydian-Regular.ttf', '/System/Library/AssetsV2/com_apple_MobileAsset_Font7/f0706a236683628e16427c6569e441423faaaa93.asset/AssetData/STXIHEI.ttf', '/System/Library/Fonts/Supplemental/NotoSansLycian-Regular.ttf', '/System/Library/Fonts/Supplemental/GillSans.ttc', '/System/Library/Fonts/Supplemental/Trebuchet MS Bold.ttf', '/System/Library/Fonts/Supplemental/Arial Rounded Bold.ttf', '/System/Library/Fonts/Apple Braille Outline 8 Dot.ttf', '/System/Library/AssetsV2/com_apple_MobileAsset_Font7/7ca27bc02dd7660f9dacd69df96d24639b96e080.asset/AssetData/Pilgiche.ttf', '/System/Library/Fonts/Supplemental/Arial Narrow Bold Italic.ttf', '/System/Library/AssetsV2/com_apple_MobileAsset_Font7/e97ef3d250bf28fb7f4395f864e436cd07166818.asset/AssetData/LavaTelugu.ttc', '/System/Library/AssetsV2/com_apple_MobileAsset_Font7/bb1b210553461ff7461985eba104f3f3bcd701b3.asset/AssetData/JainiDevanagari-Regular.ttf', '/System/Library/Fonts/Supplemental/NotoSansTaiTham-Regular.ttf', '/System/Library/Fonts/Supplemental/Myanmar MN.ttc', '/System/Library/AssetsV2/com_apple_MobileAsset_Font7/229d50d9c2cfb69a5a71be23225ae80f26257cc2.asset/AssetData/Krub.ttc', '/System/Library/Fonts/HelveticaNeue.ttc', '/System/Library/AssetsV2/com_apple_MobileAsset_Font7/e71ea5469e5f2039223f22203ee8b9186524afd3.asset/AssetData/BMDoHyeon-Regular.otf', '/System/Library/Fonts/Supplemental/Raanana.ttc', '/System/Library/Fonts/Supplemental/NotoSansCham-Regular.ttf', '/System/Library/Fonts/STHeiti Medium.ttc', '/System/Library/Fonts/Supplemental/PTSans.ttc', '/System/Library/AssetsV2/com_apple_MobileAsset_Font7/10b097deccb3c6126d986e24b1980031ff7399da.asset/AssetData/TsukushiBMaruGothic.ttc', '/System/Library/AssetsV2/com_apple_MobileAsset_Font7/de4b2bad515a67ab2d11e39fd896b1e189252a43.asset/AssetData/HeadlineA.ttf', '/System/Library/Fonts/Supplemental/NotoSerifYezidi-Regular.otf', '/System/Library/Fonts/Supplemental/NotoSansPhoenician-Regular.ttf', '/System/Library/AssetsV2/com_apple_MobileAsset_Font7/5b0f0fa2e28e0396613acc33b1c0aa7e1e7358f2.asset/AssetData/SamaGurmukhi.ttc', '/System/Library/Fonts/Supplemental/Arial.ttf', '/System/Library/Fonts/Supplemental/Lao MN.ttc', '/System/Library/Fonts/Supplemental/NotoSansBassaVah-Regular.ttf', '/Users/geunskoo/Library/Fonts/Pretendard-Light.ttf', '/System/Library/Fonts/Supplemental/Khmer MN.ttc', '/System/Library/Fonts/Supplemental/NotoSansElbasan-Regular.ttf', '/System/Library/Fonts/LucidaGrande.ttc', '/System/Library/Fonts/NewYork.ttf', '/System/Library/AssetsV2/com_apple_MobileAsset_Font7/b86e58f38fd21e9782e70a104676f1655e72ebab.asset/AssetData/Yuanti.ttc', '/System/Library/Fonts/Supplemental/NotoSansOldPersian-Regular.ttf', '/System/Library/AssetsV2/com_apple_MobileAsset_Font7/5d7a46ae13682290c4ea481f6deb24723758c0b0.asset/AssetData/TiroBangla.ttc', '/System/Library/Fonts/Supplemental/NotoSansSaurashtra-Regular.ttf', '/System/Library/Fonts/Supplemental/NotoSansPsalterPahlavi-Regular.ttf', '/Users/geunskoo/Library/Fonts/GmarketSansTTFBold.ttf', '/System/Library/Fonts/Supplemental/Oriya MN.ttc', '/System/Library/AssetsV2/com_apple_MobileAsset_Font7/12cc699be28fb04f3e3c4969a0378a87b920b174.asset/AssetData/BMHannaAir-Regular.otf', '/System/Library/AssetsV2/com_apple_MobileAsset_Font7/6f4c91728bb824d6960725ec479c355eab7eeba8.asset/AssetData/NanumScript.ttc', '/System/Library/Fonts/Supplemental/Diwan Thuluth.ttf', '/System/Library/Fonts/Supplemental/Verdana.ttf', '/System/Library/Fonts/Supplemental/STIXGeneral.otf', '/System/Library/AssetsV2/com_apple_MobileAsset_Font7/3d7c99b85a518ffb479044c11185e47744b6448d.asset/AssetData/WawaTC-Regular.otf', '/System/Library/Fonts/Supplemental/Arial Bold.ttf', '/System/Library/Fonts/Supplemental/NotoSansKayahLi-Regular.ttf', '/System/Library/Fonts/SFHebrewRounded.ttf', '/System/Library/Fonts/Supplemental/Beirut.ttc', '/System/Library/Fonts/NotoNastaliq.ttc', '/System/Library/AssetsV2/com_apple_MobileAsset_Font7/b934aea5f09dbd97182321d27b0e1bbb7e1abf9a.asset/AssetData/Baloo-Devanagari.ttc', '/System/Library/AssetsV2/com_apple_MobileAsset_Font7/3c0538e5098b7ae593a24c89e80fd5949e873ce1.asset/AssetData/GotuDevanagari-Regular.ttf', '/System/Library/AssetsV2/com_apple_MobileAsset_Font7/7efab9946d635d7372e757e403306b8ec1b11918.asset/AssetData/TiroTelugu.ttc', '/System/Library/Fonts/Supplemental/Al Nile.ttc', '/System/Library/Fonts/Supplemental/Mishafi Gold.ttf', '/System/Library/Fonts/Supplemental/Farisi.ttf', '/System/Library/AssetsV2/com_apple_MobileAsset_Font7/79115b675fbb31b036cc749efe17348bfe903880.asset/AssetData/LavaKannada.ttc', '/System/Library/Fonts/ヒラギノ角ゴシック W7.ttc', '/System/Library/Fonts/Supplemental/NotoSansWancho-Regular.ttf', '/System/Library/Fonts/Supplemental/NotoSansRejang-Regular.ttf', '/System/Library/Fonts/Supplemental/NotoSerifAhom-Regular.ttf', '/System/Library/Fonts/Supplemental/NotoSansMarchen-Regular.ttf', '/System/Library/Fonts/Apple Braille Outline 6 Dot.ttf', '/System/Library/Fonts/Supplemental/NotoSansBatak-Regular.ttf', '/System/Library/AssetsV2/com_apple_MobileAsset_Font7/1b3d20c129476a1c955d799d5b449ba927728923.asset/AssetData/BalooPaajiGurmukhi.ttc', '/System/Library/Fonts/Supplemental/Webdings.ttf', '/System/Library/Fonts/SFArmenianRounded.ttf', '/System/Library/Fonts/Supplemental/STIXNonUniBol.otf', '/System/Library/Fonts/Supplemental/NotoSansMiao-Regular.ttf', '/System/Library/Fonts/Supplemental/Bangla Sangam MN.ttc', '/System/Library/Fonts/Supplemental/STIXSizTwoSymReg.otf', '/System/Library/Fonts/Supplemental/NotoSansAvestan-Regular.ttf', '/System/Library/Fonts/Supplemental/NotoSansOlChiki-Regular.ttf', '/System/Library/Fonts/Supplemental/Academy Engraved LET Fonts.ttf', '/System/Library/Fonts/Supplemental/Bodoni 72 OS.ttc', '/System/Library/Fonts/Supplemental/Savoye LET.ttc', '/System/Library/Fonts/Kohinoor.ttc', '/System/Library/Fonts/Supplemental/Myanmar Sangam MN.ttc', '/System/Library/AssetsV2/com_apple_MobileAsset_Font7/d9a8a6ae726910080d90232eaf0edb06da712758.asset/AssetData/TsukushiAMaruGothic.ttc', '/System/Library/Fonts/Supplemental/NotoSansCuneiform-Regular.ttf', '/System/Library/AssetsV2/com_apple_MobileAsset_Font7/54a2ad3dac6cac875ad675d7d273dc425010a877.asset/AssetData/Kaiti.ttc', '/System/Library/Fonts/Supplemental/Malayalam Sangam MN.ttc', '/System/Library/Fonts/Supplemental/Verdana Bold Italic.ttf', '/System/Library/Fonts/SFArmenian.ttf', '/System/Library/AssetsV2/com_apple_MobileAsset_Font7/0e35a111b2580442c7bff35fcd5c54fc99ca1d91.asset/AssetData/Kodchasan.ttc', '/System/Library/Fonts/Supplemental/PTSerif.ttc', '/System/Library/Fonts/Supplemental/Impact.ttf', '/System/Library/Fonts/Supplemental/SnellRoundhand.ttc', '/System/Library/Fonts/AppleSDGothicNeo.ttc', '/System/Library/AssetsV2/com_apple_MobileAsset_Font7/cbc82575ea9db570d060024bc88fc660f4217497.asset/AssetData/Shobhika-Devanagari.ttc', '/System/Library/Fonts/SFCompactItalic.ttf', '/System/Library/Fonts/MarkerFelt.ttc', '/System/Library/Fonts/Supplemental/NotoSansMahajani-Regular.ttf', '/System/Library/AssetsV2/com_apple_MobileAsset_Font7/06789664375fd3fde34617a38e3164dc6bf2879b.asset/AssetData/AkayaTelivigala-regular.ttf', '/System/Library/Fonts/Supplemental/NotoSerifNyiakengPuachueHmong-Regular.ttf', '/System/Library/Fonts/SFNSMono.ttf', '/System/Library/AssetsV2/com_apple_MobileAsset_Font7/256f90b4f23b30e5356a8e7c2e239a8d53a48e8c.asset/AssetData/Maku-Devanagari.ttc', '/System/Library/Fonts/Supplemental/Arial Black.ttf', '/System/Library/AssetsV2/com_apple_MobileAsset_Font7/ce3ca7cc88974b63ce2a6cda076d9974eff41c2e.asset/AssetData/NotoSerifKannada.ttc', '/System/Library/Fonts/Supplemental/Gurmukhi.ttf', '/System/Library/AssetsV2/com_apple_MobileAsset_Font7/a5102e3bf3b4bd3ac5d9fabd0571dd0343f9d74b.asset/AssetData/AnnaiMN.ttf', '/System/Library/Fonts/Supplemental/NotoSansLisu-Regular.ttf', '/System/Library/Fonts/Supplemental/NotoSansMasaramGondi-Regular.otf', '/System/Library/AssetsV2/com_apple_MobileAsset_Font7/e9a9a2d18358033875835a6228cb70ce84b7e47c.asset/AssetData/YuMincho.ttc', '/System/Library/Fonts/Supplemental/NotoSansThaana-Regular.ttf', '/System/Library/Fonts/Supplemental/NotoSansNewTaiLue-Regular.ttf', '/System/Library/Fonts/Supplemental/NotoSansUgaritic-Regular.ttf', '/Users/geunskoo/Library/Fonts/Pretendard-ExtraLight.ttf', '/System/Library/Fonts/Supplemental/Bodoni 72 Smallcaps Book.ttf', '/System/Library/Fonts/Supplemental/STIXSizOneSymReg.otf', '/System/Library/Fonts/Supplemental/Charter.ttc', '/System/Library/Fonts/Supplemental/Trebuchet MS.ttf', '/System/Library/Fonts/Courier.ttc', '/System/Library/Fonts/Supplemental/NotoSansGlagolitic-Regular.ttf', '/System/Library/Fonts/Supplemental/Shree714.ttc', '/System/Library/Fonts/KohinoorGujarati.ttc', '/System/Library/Fonts/Supplemental/STIXTwoText.ttf', '/System/Library/Fonts/Supplemental/Microsoft Sans Serif.ttf', '/System/Library/Fonts/ヒラギノ角ゴシック W1.ttc', '/System/Library/Fonts/Supplemental/NotoSansVai-Regular.ttf', '/System/Library/Fonts/Supplemental/STIXIntUpReg.otf', '/System/Library/Fonts/Supplemental/DecoTypeNaskh.ttc', '/System/Library/Fonts/Supplemental/Bodoni 72.ttc', '/System/Library/AssetsV2/com_apple_MobileAsset_Font7/e617c1b15920c6ee2d047ed8724de08521ce5c9a.asset/AssetData/BIZ_UDMincho-regular.ttf', '/System/Library/Fonts/ヒラギノ角ゴシック W0.ttc', '/System/Library/Fonts/Supplemental/Georgia Bold Italic.ttf', '/System/Library/Fonts/Supplemental/NotoSansHanunoo-Regular.ttf', '/System/Library/Fonts/Supplemental/Bradley Hand Bold.ttf', '/System/Library/AssetsV2/com_apple_MobileAsset_Font7/f7f6b250e97c182e68ac53a2b359ec44548878b9.asset/AssetData/Lantinghei.ttc', '/System/Library/Fonts/ヒラギノ角ゴシック W2.ttc', '/System/Library/AssetsV2/com_apple_MobileAsset_Font7/bff515501313f56409358f8994642696000d2dbc.asset/AssetData/Sarabun.ttc', '/System/Library/AssetsV2/com_apple_MobileAsset_Font7/54476f0fabbd6ca1ab2a0c4d19219232acfe366c.asset/AssetData/ChakraPetch.ttc', '/System/Library/AssetsV2/com_apple_MobileAsset_Font7/2183b8adbe88829e51570bd6714dfbd1226aed5e.asset/AssetData/SamaTamil.ttc', '/System/Library/Fonts/NotoSansArmenian.ttc', '/System/Library/Fonts/Supplemental/AmericanTypewriter.ttc', '/System/Library/Fonts/Supplemental/NotoSansKharoshthi-Regular.ttf', '/System/Library/Fonts/Supplemental/Lao Sangam MN.ttf', '/System/Library/AssetsV2/com_apple_MobileAsset_Font7/157acc4d862730d6d5beaa943546f80a71948c7b.asset/AssetData/BMHanna11yrs-Regular.otf', '/System/Library/Fonts/Supplemental/NotoSansInscriptionalPahlavi-Regular.ttf', '/System/Library/Fonts/Supplemental/Tamil Sangam MN.ttc', '/System/Library/Fonts/Supplemental/Kailasa.ttc', '/System/Library/AssetsV2/com_apple_MobileAsset_Font7/eb257c12d1a51c8c661b89f30eec56cacf9b8987.asset/AssetData/STHEITI.ttf', '/System/Library/Fonts/Supplemental/Luminari.ttf', '/System/Library/Fonts/Supplemental/InaiMathi-MN.ttc', '/System/Library/Fonts/Supplemental/NotoSansJavanese-Regular.otf', '/System/Library/Fonts/Supplemental/NotoSansTakri-Regular.ttf', '/System/Library/AssetsV2/com_apple_MobileAsset_Font7/17c994707700838ad3c3202029b621fb85a81b0c.asset/AssetData/OctoberCompressedTamil.ttc', '/System/Library/AssetsV2/com_apple_MobileAsset_Font7/2ae839cbaa0ff60fe6a1d8921a77c81adcec0646.asset/AssetData/AppleLiSung-Light.ttf', '/System/Library/Fonts/Supplemental/Marion.ttc', '/System/Library/AssetsV2/com_apple_MobileAsset_Font7/f110a45f1759f86c645cfd2f47baba57aa50056e.asset/AssetData/Klee.ttc', '/System/Library/Fonts/Supplemental/Krungthep.ttf', '/System/Library/AssetsV2/com_apple_MobileAsset_Font7/89b58ecc83406bd9b582b9bd9be380d5c47b317b.asset/AssetData/TiroGurmukhi.ttc', '/System/Library/Fonts/Supplemental/GujaratiMT.ttc', '/System/Library/Fonts/Palatino.ttc', '/System/Library/Fonts/Keyboard.ttf', '/System/Library/Fonts/Supplemental/Baskerville.ttc', '/System/Library/Fonts/Supplemental/NotoSansTifinagh-Regular.ttf', '/System/Library/Fonts/Supplemental/Gurmukhi Sangam MN.ttc', '/System/Library/Fonts/Supplemental/Devanagari Sangam MN.ttc', '/System/Library/AssetsV2/com_apple_MobileAsset_Font7/8739f5cf483d3b2f04cbb451d310b68f0cf880d0.asset/AssetData/ToppanBunkyuMinchoPr6N-Regular.otf', '/System/Library/Fonts/Supplemental/NotoSansSylotiNagri-Regular.ttf', '/System/Library/Fonts/Supplemental/Telugu Sangam MN.ttc', '/System/Library/Fonts/Supplemental/NISC18030.ttf', '/System/Library/AssetsV2/com_apple_MobileAsset_Font7/eb06f5c216ccc3eed69b7d6530b38fa3c0a8e65f.asset/AssetData/TamilSangam-MN-MA.ttc', '/System/Library/Fonts/Supplemental/Sinhala Sangam MN.ttc', '/System/Library/AssetsV2/com_apple_MobileAsset_Font7/2a1f2afa294c311a093f83238e770c82569d87e3.asset/AssetData/BalooTammuduTelugu.ttc', '/System/Library/Fonts/Supplemental/SignPainter.ttc', '/System/Library/Fonts/Supplemental/NotoSansPhagsPa-Regular.ttf', '/System/Library/Fonts/Supplemental/STIXSizThreeSymReg.otf', '/System/Library/Fonts/Hiragino Sans GB.ttc', '/System/Library/Fonts/Supplemental/Andale Mono.ttf', '/System/Library/Fonts/Supplemental/NotoSansSharada-Regular.ttf', '/System/Library/Fonts/Supplemental/DIN Condensed Bold.ttf', '/System/Library/Fonts/ヒラギノ角ゴシック W8.ttc', '/System/Library/Fonts/NotoSerifMyanmar.ttc', '/System/Library/Fonts/Supplemental/SukhumvitSet.ttc', '/System/Library/Fonts/Supplemental/AppleGothic.ttf', '/System/Library/Fonts/Supplemental/NotoSansTirhuta-Regular.ttf', '/System/Library/Fonts/Supplemental/Trebuchet MS Bold Italic.ttf', '/System/Library/Fonts/Supplemental/STIXTwoMath.otf', '/System/Library/AssetsV2/com_apple_MobileAsset_Font7/0021f10c176530a735946770945ace69fc82bba7.asset/AssetData/OctoberTamil.ttc', '/System/Library/AssetsV2/com_apple_MobileAsset_Font7/e86431dbd21a5a9b2a71ae1224cc7698ef086c05.asset/AssetData/PadyakkeExpandedOne-regular.otf', '/System/Library/Fonts/SFNSItalic.ttf', '/System/Library/Fonts/Supplemental/NotoSansOldSouthArabian-Regular.ttf', '/System/Library/AssetsV2/com_apple_MobileAsset_Font7/a7fcc45c390cf985711c0d44d881ddad6b94c4c9.asset/AssetData/BalooDaBangla.ttc', '/System/Library/Fonts/Supplemental/Khmer Sangam MN.ttf', '/System/Library/Fonts/Supplemental/NewPeninimMT.ttc', '/System/Library/Fonts/Supplemental/Farah.ttc', '/System/Library/Fonts/Supplemental/NotoSansAdlam-Regular.ttf', '/System/Library/AssetsV2/com_apple_MobileAsset_Font7/0ab217c39c45c7c6acaddfa199fd32c55a7b4a19.asset/AssetData/ToppanBunkyuGothicPr6N.ttc', '/System/Library/Fonts/Supplemental/Telugu MN.ttc', '/System/Library/Fonts/Supplemental/STIXIntDReg.otf', '/System/Library/AssetsV2/com_apple_MobileAsset_Font7/9e22136ec82f77bba367e78671c34422a2dbefb9.asset/AssetData/BalooBhaijaanUrdu-Regular.ttf', '/System/Library/AssetsV2/com_apple_MobileAsset_Font7/073fefc3a17aac9e6aba8fbc7704ee9171fabdd8.asset/AssetData/TiroSanskrit.ttc', '/System/Library/AssetsV2/com_apple_MobileAsset_Font7/a4707364a66ce7e90295e4286131944c5ed2141d.asset/AssetData/TiroKannada.ttc', '/System/Library/Fonts/Supplemental/Georgia Italic.ttf', '/System/Library/Fonts/Supplemental/STIXIntUpSmBol.otf', '/System/Library/Fonts/Supplemental/STIXVarBol.otf', '/System/Library/Fonts/Supplemental/NotoSansCoptic-Regular.ttf', '/System/Library/Fonts/Supplemental/STIXIntSmBol.otf', '/System/Library/AssetsV2/com_apple_MobileAsset_Font7/61787c319c1b3c6b58cf3b7be6a78ab8f09610b0.asset/AssetData/LavaDevanagari.ttc', '/System/Library/AssetsV2/com_apple_MobileAsset_Font7/6fe206600409e98dcd3e18af1427806070d0150f.asset/AssetData/ArimaKoshi.ttc', '/System/Library/Fonts/Supplemental/Kannada MN.ttc', '/System/Library/Fonts/KohinoorTelugu.ttc', '/Users/geunskoo/Library/Fonts/Pretendard-Medium.ttf', '/System/Library/Fonts/PingFang.ttc', '/System/Library/Fonts/Supplemental/Courier New.ttf', '/System/Library/Fonts/Supplemental/Thonburi.ttc', '/System/Library/Fonts/Supplemental/NotoSansLimbu-Regular.ttf', '/System/Library/Fonts/Supplemental/Futura.ttc', '/System/Library/Fonts/Supplemental/Mshtakan.ttc', '/System/Library/Fonts/Supplemental/Times New Roman Bold Italic.ttf', '/System/Library/Fonts/Supplemental/Apple Chancery.ttf', '/System/Library/Fonts/Supplemental/NotoSansPahawhHmong-Regular.ttf', '/System/Library/Fonts/Supplemental/STIXIntDBol.otf', '/System/Library/AssetsV2/com_apple_MobileAsset_Font7/25f6134c89b011288b72c7b81c9c22b2d6882471.asset/AssetData/SamaMalayalam.ttc', '/System/Library/Fonts/Supplemental/Times New Roman Bold.ttf', '/System/Library/Fonts/Supplemental/Phosphate.ttc', '/System/Library/Fonts/Supplemental/STIXNonUni.otf', '/System/Library/Fonts/SFNSRounded.ttf', '/System/Library/Fonts/Supplemental/NotoSansHanifiRohingya-Regular.ttf', '/System/Library/AssetsV2/com_apple_MobileAsset_Font7/e5642792741fe8d1df03a8fa2a1306f55e9ae8f5.asset/AssetData/Hubballi-regular.otf', '/System/Library/AssetsV2/com_apple_MobileAsset_Font7/b8cf53b3591d6062cd536ba5129454cba899a078.asset/AssetData/LingWaiTC-Medium.otf', '/System/Library/Fonts/Supplemental/AppleMyungjo.ttf', '/System/Library/Fonts/SFGeorgian.ttf', '/System/Library/AssetsV2/com_apple_MobileAsset_Font7/e13e9d74dd730ca10b36e625bd3b964013949a20.asset/AssetData/OctoberDevanagari.ttc', '/System/Library/Fonts/SFCompact.ttf', '/System/Library/Fonts/Supplemental/NotoSansOsage-Regular.ttf', '/System/Library/Fonts/Supplemental/NotoSansSundanese-Regular.ttf', '/System/Library/Fonts/Supplemental/STIXSizFourSymReg.otf', '/System/Library/AssetsV2/com_apple_MobileAsset_Font7/1fd9551e1008792980fde5e0a4655fc6928b8499.asset/AssetData/BalooBhaiGujarati.ttc', '/System/Library/Fonts/Supplemental/STIXTwoText-Italic.ttf', '/System/Library/Fonts/Supplemental/ChalkboardSE.ttc', '/System/Library/Fonts/Supplemental/NotoSansLinearA-Regular.ttf', '/System/Library/Fonts/Monaco.ttf', '/System/Library/AssetsV2/com_apple_MobileAsset_Font7/40e56e4eafd8b4db78ffe316f64ac4bedba37b53.asset/AssetData/ToppanBunkyuMidashiMinchoStdN-ExtraBold.otf', '/System/Library/Fonts/Helvetica.ttc', '/System/Library/Fonts/ヒラギノ角ゴシック W5.ttc', '/System/Library/Fonts/Supplemental/NotoSansMeroitic-Regular.ttf', '/System/Library/Fonts/Supplemental/Times New Roman Italic.ttf', '/System/Library/Fonts/Supplemental/PlantagenetCherokee.ttf', '/System/Library/Fonts/AquaKana.ttc', '/System/Library/Fonts/Supplemental/NotoSansLepcha-Regular.ttf', '/System/Library/Fonts/Supplemental/NotoSansCarian-Regular.ttf', '/System/Library/AssetsV2/com_apple_MobileAsset_Font7/1821952872c81043711aab6910052b65da8edf2c.asset/AssetData/STFANGSO.ttf', '/System/Library/AssetsV2/com_apple_MobileAsset_Font7/9bcdfd464af84ab30592d781f4a82f44f548239c.asset/AssetData/BMYeongSung-Regular.otf', '/System/Library/Fonts/Apple Color Emoji.ttc', '/System/Library/AssetsV2/com_apple_MobileAsset_Font7/0499ae595c88f1d29b5ef4bbd230e24be76e06d3.asset/AssetData/KoHo.ttc', '/System/Library/Fonts/Supplemental/NotoSansCanadianAboriginal-Regular.otf', '/System/Library/AssetsV2/com_apple_MobileAsset_Font7/e5b038333b21d35a7cab9653e3551c464452f70b.asset/AssetData/Charmonman.ttc', '/System/Library/Fonts/SFArabicRounded.ttf', '/System/Library/Fonts/Supplemental/Kannada Sangam MN.ttc', '/System/Library/Fonts/Supplemental/Hoefler Text Ornaments.ttf', '/System/Library/Fonts/Supplemental/STIXSizTwoSymBol.otf', '/System/Library/AssetsV2/com_apple_MobileAsset_Font7/1ff4e547c28844b2b95c93618c4ecf5d9e46fe51.asset/AssetData/OctoberCompressedDevanagari.ttc', '/System/Library/Fonts/Supplemental/Athelas.ttc', '/System/Library/AssetsV2/com_apple_MobileAsset_Font7/06d2de4211adb0791d22b2c807659e51122f5fbf.asset/AssetData/CambayDevanagari.ttc', '/System/Library/AssetsV2/com_apple_MobileAsset_Font7/7722fac06d2ccff23ed22b9ab921460b835e3e8c.asset/AssetData/K2D.ttc', '/Users/geunskoo/Library/Fonts/Pretendard-SemiBold.ttf', '/System/Library/Fonts/Supplemental/Cochin.ttc', '/System/Library/Fonts/Supplemental/STIXNonUniBolIta.otf', '/System/Library/AssetsV2/com_apple_MobileAsset_Font7/4c178a7a7f65f6487f4b90071ab776126ef1861a.asset/AssetData/Mukta-Devanagari.ttc', '/System/Library/Fonts/Supplemental/NotoSansMro-Regular.ttf', '/System/Library/Fonts/Supplemental/Corsiva.ttc', '/System/Library/Fonts/Supplemental/Songti.ttc', '/System/Library/AssetsV2/com_apple_MobileAsset_Font7/70816a43827731d40efe234b94feba96db91024f.asset/AssetData/NanumMyeongjo.ttc', '/System/Library/AssetsV2/com_apple_MobileAsset_Font7/e2c331b942cb338404a160a97a7cd6e8a31428e8.asset/AssetData/LingWaiSC-Medium.otf', '/System/Library/Fonts/Supplemental/NotoSerifBalinese-Regular.ttf', '/System/Library/AssetsV2/com_apple_MobileAsset_Font7/5b843781be7f58151ada774942a0eaa9ec79bd57.asset/AssetData/Kyokasho.ttc', '/System/Library/Fonts/Supplemental/AlBayan.ttc', '/System/Library/Fonts/Supplemental/Verdana Bold.ttf']\n"
     ]
    }
   ],
   "source": [
    "import matplotlib.pyplot as plt\n",
    "import matplotlib.font_manager as fm\n",
    "\n",
    "# 한글 글꼴 설정 (여기서는 'Malgun Gothic'을 사용)\n",
    "plt.rcParams['font.family'] = 'D2Coding'\n",
    "\n",
    "# 한글 폰트 적용 확인\n",
    "print(fm.findSystemFonts(fontpaths=None, fontext='ttf'))"
   ]
  },
  {
   "cell_type": "code",
   "execution_count": 166,
   "metadata": {},
   "outputs": [
    {
     "data": {
      "image/png": "[encoded data removed]",
      "text/plain": [
       "<Figure size 800x600 with 1 Axes>"
      ]
     },
     "metadata": {},
     "output_type": "display_data"
    }
   ],
   "source": [
    "import matplotlib.pyplot as plt\n",
    "\n",
    "def plot_precision_recall_vs_threshold(precision, recalls, threshold):\n",
    "    plt.figure(figsize=(8, 6))\n",
    "    \n",
    "    # 정밀도와 재현율 곡선 그리기\n",
    "    plt.plot(threshold, precision[:-1], 'b--', label='정밀도')\n",
    "    plt.plot(threshold, recalls[:-1], 'g-', label='재현율')\n",
    "    \n",
    "    # 임계값을 강조 표시\n",
    "    close_default_threshold = threshold[np.argmax(precision[:-1] >= recalls[:-1])]\n",
    "    plt.plot([close_default_threshold, close_default_threshold], [0, 1], 'r:', label='임계값')\n",
    "\n",
    "    # 범례 추가\n",
    "    plt.legend(loc='best')\n",
    "\n",
    "    # 축 이름 추가\n",
    "    plt.xlabel('임계값')\n",
    "    plt.ylabel('값')\n",
    "\n",
    "    #축 간격\n",
    "    plt.xlim(-150000, 150000)\n",
    "\n",
    "    # 그리드 추가\n",
    "    plt.grid(True)\n",
    "\n",
    "    plt.title('정밀도 및 재현율 vs 임계값')\n",
    "\n",
    "\n",
    "plot_precision_recall_vs_threshold(precision, recalls, threshold)\n",
    "plt.show()"
   ]
  },
  {
   "cell_type": "code",
   "execution_count": 178,
   "metadata": {},
   "outputs": [
    {
     "data": {
      "image/png": "[encoded data removed]",
      "text/plain": [
       "<Figure size 640x480 with 1 Axes>"
      ]
     },
     "metadata": {},
     "output_type": "display_data"
    }
   ],
   "source": [
    "def plot_pr_curve(precision, recalls, label=None):\n",
    "    plt.plot(recalls, precision, linewidth=2, label=label)\n",
    "\n",
    "    # 범례 추가\n",
    "    plt.legend(loc='best')\n",
    "\n",
    "    # 축 이름 추가\n",
    "    plt.xlabel('재현율')\n",
    "    plt.ylabel('정밀도')\n",
    "\n",
    "    # 그리드 추가\n",
    "    plt.grid(True)\n",
    "\n",
    "    plt.title('PR(정밀도/재현율) 곡선')\n",
    "\n",
    "plot_pr_curve(precision, recalls, 'PR Curve')\n",
    "plt.show()"
   ]
  },
  {
   "cell_type": "markdown",
   "metadata": {},
   "source": [
    "ROC 곡선 : 수신기 조작 특성 곡선도 이진분류에서 널리 사용하는 도구이다.  \n",
    "\n",
    "정밀도/재현율 곡선과 매우 비슷하지만 ROC곡선은 `거짓 양성 비율`(1-특이도)에 대한 `진짜 양성 비율`(재현율) 이다."
   ]
  },
  {
   "cell_type": "code",
   "execution_count": 167,
   "metadata": {},
   "outputs": [],
   "source": [
    "from sklearn.metrics import roc_curve"
   ]
  },
  {
   "cell_type": "code",
   "execution_count": 168,
   "metadata": {},
   "outputs": [],
   "source": [
    "fpr, tpr, threshold = roc_curve(y_train5, y_scores)"
   ]
  },
  {
   "cell_type": "code",
   "execution_count": 173,
   "metadata": {},
   "outputs": [
    {
     "data": {
      "image/png": "[encoded data removed]",
      "text/plain": [
       "<Figure size 640x480 with 1 Axes>"
      ]
     },
     "metadata": {},
     "output_type": "display_data"
    }
   ],
   "source": [
    "def plot_roc_curve(fpr, tpr, label=None):\n",
    "    plt.plot(fpr, tpr, linewidth=2, label=label)\n",
    "    plt.plot([0,1],[0,1],'k--')\n",
    "\n",
    "    # 범례 추가\n",
    "    plt.legend(loc='best')\n",
    "\n",
    "    # 축 이름 추가\n",
    "    plt.xlabel('거짓 양성 비율(1-특이도)')\n",
    "    plt.ylabel('진짜 양성 비율(재현율)')\n",
    "\n",
    "    # 그리드 추가\n",
    "    plt.grid(True)\n",
    "\n",
    "    plt.title('ROC 곡선')\n",
    "\n",
    "plot_roc_curve(fpr, tpr, 'ROC Curve')\n",
    "plt.show()"
   ]
  },
  {
   "cell_type": "markdown",
   "metadata": {},
   "source": [
    "재현율이 높을수록 거짓 양성 비율이 늘어난다라는 트레이드오프가 존재함.\n",
    "\n",
    "주대각선의 점선은 랜덤한 분류기의 ROC 곡선이다. 좋은 분류기는 점선으로 부터 최대한 멀리 떨어져 있어야한다.(왼쪽 모서리)\n",
    "\n",
    "`곡선아래의 면적(AUC)`를 측정하면 분류기들을 비교할 수 있다.\n",
    "완벽한 분류기는 ROC의 AUC가 1이고, 완전한 랜덤 분류기는 0.5이다"
   ]
  },
  {
   "cell_type": "code",
   "execution_count": 174,
   "metadata": {},
   "outputs": [],
   "source": [
    "from sklearn.metrics import roc_auc_score"
   ]
  },
  {
   "cell_type": "code",
   "execution_count": 175,
   "metadata": {},
   "outputs": [
    {
     "data": {
      "text/plain": [
       "np.float64(0.9604938554008616)"
      ]
     },
     "execution_count": 175,
     "metadata": {},
     "output_type": "execute_result"
    }
   ],
   "source": [
    "roc_auc_score(y_train5, y_scores)"
   ]
  },
  {
   "cell_type": "markdown",
   "metadata": {},
   "source": [
    "* ROC곡선과 정밀도/재현율(PR)곡선 중 어떤 것을 사용하는것이 좋을까?  \n",
    "\n",
    "일반적인 법칙으로는 양성클래스가 드물거나 거짓 음성보다 거짓 양성이 더 중요할 때 PR곡선을 사용한다.  \n",
    "그렇지 않으면 ROC곡선을 사용한다."
   ]
  },
  {
   "cell_type": "markdown",
   "metadata": {},
   "source": [
    "* SGDC와 RandomForest 모델의 AUC를 비교해보자!"
   ]
  },
  {
   "cell_type": "code",
   "execution_count": 179,
   "metadata": {},
   "outputs": [],
   "source": [
    "from sklearn.ensemble import RandomForestClassifier\n",
    "\n",
    "forest_clf = RandomForestClassifier(random_state=42)\n",
    "y_probas_forest = cross_val_predict(forest_clf, X_train, y_train5, cv=3, method='predict_proba')"
   ]
  },
  {
   "cell_type": "code",
   "execution_count": 181,
   "metadata": {},
   "outputs": [],
   "source": [
    "y_scores_forest = y_probas_forest[:,1]\n",
    "fpr_forest, tpr_forest, threshold_forest = roc_curve(y_train5, y_scores_forest)"
   ]
  },
  {
   "cell_type": "code",
   "execution_count": 183,
   "metadata": {},
   "outputs": [
    {
     "data": {
      "image/png": "[encoded data removed]",
      "text/plain": [
       "<Figure size 640x480 with 1 Axes>"
      ]
     },
     "metadata": {},
     "output_type": "display_data"
    }
   ],
   "source": [
    "plt.plot(fpr, tpr, \"b:\", label='SGD')\n",
    "plot_roc_curve(fpr_forest, tpr_forest, \"랜덤포레스트\")\n",
    "plt.show()"
   ]
  },
  {
   "cell_type": "code",
   "execution_count": 184,
   "metadata": {},
   "outputs": [
    {
     "data": {
      "text/plain": [
       "np.float64(0.9983296721818179)"
      ]
     },
     "execution_count": 184,
     "metadata": {},
     "output_type": "execute_result"
    }
   ],
   "source": [
    "roc_auc_score(y_train5, y_scores_forest)"
   ]
  },
  {
   "cell_type": "markdown",
   "metadata": {},
   "source": [
    "## 2. 다중분류"
   ]
  },
  {
   "cell_type": "markdown",
   "metadata": {},
   "source": [
    "SGD 분류기, 랜덤포레스트 분류기, 나이브 베이즈 분류기와 같은 일부 알고리즘은 `다중 분류`를 직접 처리가 가능한 방면  \n",
    "로지스틱 회귀, 서포트 벡터 머신과 같은 분류기는 `이진 분류`만 가능하다.  \n",
    "\n",
    "하지만, 이진 분류기를 여러개 사용해서 다중 클래스를 분류하는 기법이 존재한다.\n",
    "대표적으로 `OvR(One Verse All)`과 `OvO(One Verse One)`전략이 있다.\n",
    "\n",
    "0~9까지 숫자를 분류하고 싶은 경우\n",
    "* `OvR(One Verse All)` : 각각의 클래스가 맞는지 틀린지를 검사하는 이진 분류기 10개를 훈련시켜 결정 점수가 가장 높은 클래스를 선택한다.  \n",
    "* `OvO(One Verse One)` : 각 분류 조합을 생성해서 가장 많이 양성으로 분류된 클래스를 선택한다. 10개의 클래스가 있는 경우 45개의 조합이 발생한다.\n",
    "\n",
    "다중클래스 분류 작업에 이진 분류 알고리즘을 선택하면 사이킷런이 알고리즘에 따라 자동으로 OvR과 OvO를 실행한다."
   ]
  },
  {
   "cell_type": "code",
   "execution_count": 187,
   "metadata": {},
   "outputs": [
    {
     "name": "stderr",
     "output_type": "stream",
     "text": [
      "/Library/Frameworks/Python.framework/Versions/3.11/lib/python3.11/site-packages/sklearn/base.py:493: UserWarning: X does not have valid feature names, but SVC was fitted with feature names\n",
      "  warnings.warn(\n"
     ]
    },
    {
     "data": {
      "text/plain": [
       "array([5], dtype=uint8)"
      ]
     },
     "execution_count": 187,
     "metadata": {},
     "output_type": "execute_result"
    }
   ],
   "source": [
    "from sklearn.svm import SVC\n",
    "\n",
    "svm_clf = SVC()\n",
    "svm_clf.fit(X_train, y_train)\n",
    "svm_clf.predict([some_digit])"
   ]
  },
  {
   "cell_type": "code",
   "execution_count": 189,
   "metadata": {},
   "outputs": [
    {
     "name": "stderr",
     "output_type": "stream",
     "text": [
      "/Library/Frameworks/Python.framework/Versions/3.11/lib/python3.11/site-packages/sklearn/base.py:493: UserWarning: X does not have valid feature names, but SVC was fitted with feature names\n",
      "  warnings.warn(\n"
     ]
    },
    {
     "data": {
      "text/plain": [
       "array([[ 1.72501977,  2.72809088,  7.2510018 ,  8.3076379 , -0.31087254,\n",
       "         9.3132482 ,  1.70975103,  2.76765202,  6.23049537,  4.84771048]])"
      ]
     },
     "execution_count": 189,
     "metadata": {},
     "output_type": "execute_result"
    }
   ],
   "source": [
    "some_digit_scores = svm_clf.decision_function([some_digit])\n",
    "some_digit_scores"
   ]
  },
  {
   "cell_type": "code",
   "execution_count": 193,
   "metadata": {},
   "outputs": [
    {
     "data": {
      "text/plain": [
       "np.int64(5)"
      ]
     },
     "execution_count": 193,
     "metadata": {},
     "output_type": "execute_result"
    }
   ],
   "source": [
    "np.argmax(some_digit_scores)"
   ]
  },
  {
   "cell_type": "code",
   "execution_count": 192,
   "metadata": {},
   "outputs": [
    {
     "data": {
      "text/plain": [
       "array([0, 1, 2, 3, 4, 5, 6, 7, 8, 9], dtype=uint8)"
      ]
     },
     "execution_count": 192,
     "metadata": {},
     "output_type": "execute_result"
    }
   ],
   "source": [
    "svm_clf.classes_"
   ]
  },
  {
   "cell_type": "code",
   "execution_count": 196,
   "metadata": {},
   "outputs": [
    {
     "data": {
      "text/plain": [
       "np.uint8(5)"
      ]
     },
     "execution_count": 196,
     "metadata": {},
     "output_type": "execute_result"
    }
   ],
   "source": [
    "svm_clf.classes_[np.argmax(some_digit_scores)]"
   ]
  },
  {
   "cell_type": "markdown",
   "metadata": {},
   "source": [
    "명시적으로 OvO나 OvA(OvR) 전략을 따르도록 지정할 수 있다."
   ]
  },
  {
   "cell_type": "code",
   "execution_count": 197,
   "metadata": {},
   "outputs": [
    {
     "name": "stderr",
     "output_type": "stream",
     "text": [
      "/Library/Frameworks/Python.framework/Versions/3.11/lib/python3.11/site-packages/sklearn/base.py:493: UserWarning: X does not have valid feature names, but SVC was fitted with feature names\n",
      "  warnings.warn(\n",
      "/Library/Frameworks/Python.framework/Versions/3.11/lib/python3.11/site-packages/sklearn/base.py:493: UserWarning: X does not have valid feature names, but SVC was fitted with feature names\n",
      "  warnings.warn(\n",
      "/Library/Frameworks/Python.framework/Versions/3.11/lib/python3.11/site-packages/sklearn/base.py:493: UserWarning: X does not have valid feature names, but SVC was fitted with feature names\n",
      "  warnings.warn(\n",
      "/Library/Frameworks/Python.framework/Versions/3.11/lib/python3.11/site-packages/sklearn/base.py:493: UserWarning: X does not have valid feature names, but SVC was fitted with feature names\n",
      "  warnings.warn(\n",
      "/Library/Frameworks/Python.framework/Versions/3.11/lib/python3.11/site-packages/sklearn/base.py:493: UserWarning: X does not have valid feature names, but SVC was fitted with feature names\n",
      "  warnings.warn(\n",
      "/Library/Frameworks/Python.framework/Versions/3.11/lib/python3.11/site-packages/sklearn/base.py:493: UserWarning: X does not have valid feature names, but SVC was fitted with feature names\n",
      "  warnings.warn(\n",
      "/Library/Frameworks/Python.framework/Versions/3.11/lib/python3.11/site-packages/sklearn/base.py:493: UserWarning: X does not have valid feature names, but SVC was fitted with feature names\n",
      "  warnings.warn(\n",
      "/Library/Frameworks/Python.framework/Versions/3.11/lib/python3.11/site-packages/sklearn/base.py:493: UserWarning: X does not have valid feature names, but SVC was fitted with feature names\n",
      "  warnings.warn(\n",
      "/Library/Frameworks/Python.framework/Versions/3.11/lib/python3.11/site-packages/sklearn/base.py:493: UserWarning: X does not have valid feature names, but SVC was fitted with feature names\n",
      "  warnings.warn(\n",
      "/Library/Frameworks/Python.framework/Versions/3.11/lib/python3.11/site-packages/sklearn/base.py:493: UserWarning: X does not have valid feature names, but SVC was fitted with feature names\n",
      "  warnings.warn(\n"
     ]
    },
    {
     "data": {
      "text/plain": [
       "array([5], dtype=uint8)"
      ]
     },
     "execution_count": 197,
     "metadata": {},
     "output_type": "execute_result"
    }
   ],
   "source": [
    "from sklearn.multiclass import OneVsRestClassifier\n",
    "ovr_clf = OneVsRestClassifier(SVC())\n",
    "ovr_clf.fit(X_train, y_train)\n",
    "ovr_clf.predict([some_digit])"
   ]
  },
  {
   "cell_type": "code",
   "execution_count": 198,
   "metadata": {},
   "outputs": [
    {
     "data": {
      "text/plain": [
       "10"
      ]
     },
     "execution_count": 198,
     "metadata": {},
     "output_type": "execute_result"
    }
   ],
   "source": [
    "len(ovr_clf.estimators_)"
   ]
  },
  {
   "cell_type": "code",
   "execution_count": 202,
   "metadata": {},
   "outputs": [
    {
     "name": "stderr",
     "output_type": "stream",
     "text": [
      "/Library/Frameworks/Python.framework/Versions/3.11/lib/python3.11/site-packages/sklearn/base.py:493: UserWarning: X does not have valid feature names, but SGDClassifier was fitted with feature names\n",
      "  warnings.warn(\n"
     ]
    },
    {
     "data": {
      "text/plain": [
       "array([3], dtype=uint8)"
      ]
     },
     "execution_count": 202,
     "metadata": {},
     "output_type": "execute_result"
    }
   ],
   "source": [
    "sgd_clf.fit(X_train, y_train)\n",
    "sgd_clf.predict([some_digit])"
   ]
  },
  {
   "cell_type": "code",
   "execution_count": 205,
   "metadata": {},
   "outputs": [
    {
     "name": "stderr",
     "output_type": "stream",
     "text": [
      "/Library/Frameworks/Python.framework/Versions/3.11/lib/python3.11/site-packages/sklearn/base.py:493: UserWarning: X does not have valid feature names, but SGDClassifier was fitted with feature names\n",
      "  warnings.warn(\n"
     ]
    },
    {
     "data": {
      "text/plain": [
       "array([[-31893.03095419, -34419.69069632,  -9530.63950739,\n",
       "          1823.73154031, -22320.14822878,  -1385.80478895,\n",
       "        -26188.91070951, -16147.51323997,  -4604.35491274,\n",
       "        -12050.767298  ]])"
      ]
     },
     "execution_count": 205,
     "metadata": {},
     "output_type": "execute_result"
    }
   ],
   "source": [
    "sgd_clf.decision_function([some_digit])"
   ]
  },
  {
   "cell_type": "code",
   "execution_count": 206,
   "metadata": {},
   "outputs": [
    {
     "data": {
      "text/plain": [
       "array([0.87365, 0.85835, 0.8689 ])"
      ]
     },
     "execution_count": 206,
     "metadata": {},
     "output_type": "execute_result"
    }
   ],
   "source": [
    "cross_val_score(sgd_clf, X_train, y_train, cv=3, scoring=\"accuracy\")"
   ]
  },
  {
   "cell_type": "code",
   "execution_count": 207,
   "metadata": {},
   "outputs": [],
   "source": [
    "from sklearn.preprocessing import StandardScaler"
   ]
  },
  {
   "cell_type": "code",
   "execution_count": 208,
   "metadata": {},
   "outputs": [
    {
     "data": {
      "text/plain": [
       "array([0.8983, 0.891 , 0.9018])"
      ]
     },
     "execution_count": 208,
     "metadata": {},
     "output_type": "execute_result"
    }
   ],
   "source": [
    "scaler = StandardScaler()\n",
    "X_train_scaled = scaler.fit_transform(X_train.astype(np.float64))\n",
    "cross_val_score(sgd_clf, X_train_scaled, y_train, cv=3, scoring=\"accuracy\")"
   ]
  },
  {
   "cell_type": "markdown",
   "metadata": {},
   "source": [
    "## 2-1. 에러분석"
   ]
  },
  {
   "cell_type": "code",
   "execution_count": 209,
   "metadata": {},
   "outputs": [
    {
     "data": {
      "text/plain": [
       "array([[5577,    0,   22,    5,    8,   43,   36,    6,  225,    1],\n",
       "       [   0, 6400,   37,   24,    4,   44,    4,    7,  212,   10],\n",
       "       [  27,   27, 5220,   92,   73,   27,   67,   36,  378,   11],\n",
       "       [  22,   17,  117, 5227,    2,  203,   27,   40,  403,   73],\n",
       "       [  12,   14,   41,    9, 5182,   12,   34,   27,  347,  164],\n",
       "       [  27,   15,   30,  168,   53, 4444,   75,   14,  535,   60],\n",
       "       [  30,   15,   42,    3,   44,   97, 5552,    3,  131,    1],\n",
       "       [  21,   10,   51,   30,   49,   12,    3, 5684,  195,  210],\n",
       "       [  17,   63,   48,   86,    3,  126,   25,   10, 5429,   44],\n",
       "       [  25,   18,   30,   64,  118,   36,    1,  179,  371, 5107]])"
      ]
     },
     "execution_count": 209,
     "metadata": {},
     "output_type": "execute_result"
    }
   ],
   "source": [
    "y_train_pred = cross_val_predict(sgd_clf, X_train_scaled, y_train, cv=3)\n",
    "conf_mx = confusion_matrix(y_train, y_train_pred)\n",
    "conf_mx"
   ]
  },
  {
   "cell_type": "code",
   "execution_count": 210,
   "metadata": {},
   "outputs": [
    {
     "data": {
      "image/png": "[encoded data removed]",
      "text/plain": [
       "<Figure size 480x480 with 1 Axes>"
      ]
     },
     "metadata": {},
     "output_type": "display_data"
    }
   ],
   "source": [
    "plt.matshow(conf_mx, cmap=plt.cm.gray)\n",
    "plt.show()"
   ]
  },
  {
   "cell_type": "code",
   "execution_count": 211,
   "metadata": {},
   "outputs": [
    {
     "data": {
      "image/png": "[encoded data removed]",
      "text/plain": [
       "<Figure size 480x480 with 1 Axes>"
      ]
     },
     "metadata": {},
     "output_type": "display_data"
    }
   ],
   "source": [
    "row_sums = conf_mx.sum(axis=1, keepdims=True)\n",
    "norm_conf_mx = conf_mx / row_sums\n",
    "\n",
    "np.fill_diagonal(norm_conf_mx, 0)\n",
    "plt.matshow(norm_conf_mx, cmap=plt.cm.gray)\n",
    "plt.show"
   ]
  },
  {
   "cell_type": "code",
   "execution_count": 253,
   "metadata": {},
   "outputs": [
    {
     "data": {
      "image/png": "[encoded data removed]",
      "text/plain": [
       "<Figure size 800x800 with 4 Axes>"
      ]
     },
     "metadata": {},
     "output_type": "display_data"
    }
   ],
   "source": [
    "# EXTRA\n",
    "def plot_digits(instances, images_per_row=10, **options):\n",
    "    size = 28\n",
    "    images_per_row = min(len(instances), images_per_row)\n",
    "    images = [instance.reshape(size,size) for instance in instances.to_numpy()]\n",
    "    n_rows = (len(instances) - 1) // images_per_row + 1\n",
    "    row_images = []\n",
    "    n_empty = n_rows * images_per_row - len(instances)\n",
    "    images.append(np.zeros((size, size * n_empty)))\n",
    "    for row in range(n_rows):\n",
    "        rimages = images[row * images_per_row : (row + 1) * images_per_row]\n",
    "        row_images.append(np.concatenate(rimages, axis=1))\n",
    "    image = np.concatenate(row_images, axis=0)\n",
    "    plt.imshow(image, cmap = plt.cm.binary, **options)\n",
    "    plt.axis(\"off\")\n",
    "\n",
    "cl_a, cl_b = 3, 5\n",
    "X_aa = X_train[(y_train == cl_a) & (y_train_pred == cl_a)]\n",
    "X_ab = X_train[(y_train == cl_a) & (y_train_pred == cl_b)]\n",
    "X_ba = X_train[(y_train == cl_b) & (y_train_pred == cl_a)]\n",
    "X_bb = X_train[(y_train == cl_b) & (y_train_pred == cl_b)]\n",
    "\n",
    "plt.figure(figsize=(8,8))\n",
    "plt.subplot(221); plot_digits(X_aa[:25], images_per_row=5)\n",
    "plt.subplot(222); plot_digits(X_ab[:25], images_per_row=5)\n",
    "plt.subplot(223); plot_digits(X_ba[:25], images_per_row=5)\n",
    "plt.subplot(224); plot_digits(X_bb[:25], images_per_row=5)"
   ]
  },
  {
   "cell_type": "markdown",
   "metadata": {},
   "source": [
    "선형 모델인 SGDClassifier는 클래스마다 픽셀에 가중치를 할당하고 새로운 이미지에 대해 단순히 픽셀 강도의 가중치 합을 클래스의 점수로 계산한다.  \n",
    "따라서 3과 5는 몇개의 픽셀만 다르기 때문에 모델이 쉽게 혼동하게 된다.\n",
    "\n",
    "즉, 이미지의 위치나 회전방향에 매우 민감하게 반응하게 된다.  \n",
    "따라서 3과 5의 에러를 줄이는 방법 중 한가지는 이미지를 중앙에 위치시키기고 회전되어 있지 않도록 전처리하는 것이다."
   ]
  },
  {
   "cell_type": "markdown",
   "metadata": {},
   "source": [
    "## 3. 다중 레이블 분류"
   ]
  },
  {
   "cell_type": "markdown",
   "metadata": {},
   "source": [
    "하나의 객체 안에 여러 클래스가 있는 경우"
   ]
  },
  {
   "cell_type": "code",
   "execution_count": 255,
   "metadata": {},
   "outputs": [
    {
     "data": {
      "text/html": [
       "<style>#sk-container-id-3 {\n",
       "  /* Definition of color scheme common for light and dark mode */\n",
       "  --sklearn-color-text: black;\n",
       "  --sklearn-color-line: gray;\n",
       "  /* Definition of color scheme for unfitted estimators */\n",
       "  --sklearn-color-unfitted-level-0: #fff5e6;\n",
       "  --sklearn-color-unfitted-level-1: #f6e4d2;\n",
       "  --sklearn-color-unfitted-level-2: #ffe0b3;\n",
       "  --sklearn-color-unfitted-level-3: chocolate;\n",
       "  /* Definition of color scheme for fitted estimators */\n",
       "  --sklearn-color-fitted-level-0: #f0f8ff;\n",
       "  --sklearn-color-fitted-level-1: #d4ebff;\n",
       "  --sklearn-color-fitted-level-2: #b3dbfd;\n",
       "  --sklearn-color-fitted-level-3: cornflowerblue;\n",
       "\n",
       "  /* Specific color for light theme */\n",
       "  --sklearn-color-text-on-default-background: var(--sg-text-color, var(--theme-code-foreground, var(--jp-content-font-color1, black)));\n",
       "  --sklearn-color-background: var(--sg-background-color, var(--theme-background, var(--jp-layout-color0, white)));\n",
       "  --sklearn-color-border-box: var(--sg-text-color, var(--theme-code-foreground, var(--jp-content-font-color1, black)));\n",
       "  --sklearn-color-icon: #696969;\n",
       "\n",
       "  @media (prefers-color-scheme: dark) {\n",
       "    /* Redefinition of color scheme for dark theme */\n",
       "    --sklearn-color-text-on-default-background: var(--sg-text-color, var(--theme-code-foreground, var(--jp-content-font-color1, white)));\n",
       "    --sklearn-color-background: var(--sg-background-color, var(--theme-background, var(--jp-layout-color0, #111)));\n",
       "    --sklearn-color-border-box: var(--sg-text-color, var(--theme-code-foreground, var(--jp-content-font-color1, white)));\n",
       "    --sklearn-color-icon: #878787;\n",
       "  }\n",
       "}\n",
       "\n",
       "#sk-container-id-3 {\n",
       "  color: var(--sklearn-color-text);\n",
       "}\n",
       "\n",
       "#sk-container-id-3 pre {\n",
       "  padding: 0;\n",
       "}\n",
       "\n",
       "#sk-container-id-3 input.sk-hidden--visually {\n",
       "  border: 0;\n",
       "  clip: rect(1px 1px 1px 1px);\n",
       "  clip: rect(1px, 1px, 1px, 1px);\n",
       "  height: 1px;\n",
       "  margin: -1px;\n",
       "  overflow: hidden;\n",
       "  padding: 0;\n",
       "  position: absolute;\n",
       "  width: 1px;\n",
       "}\n",
       "\n",
       "#sk-container-id-3 div.sk-dashed-wrapped {\n",
       "  border: 1px dashed var(--sklearn-color-line);\n",
       "  margin: 0 0.4em 0.5em 0.4em;\n",
       "  box-sizing: border-box;\n",
       "  padding-bottom: 0.4em;\n",
       "  background-color: var(--sklearn-color-background);\n",
       "}\n",
       "\n",
       "#sk-container-id-3 div.sk-container {\n",
       "  /* jupyter's `normalize.less` sets `[hidden] { display: none; }`\n",
       "     but bootstrap.min.css set `[hidden] { display: none !important; }`\n",
       "     so we also need the `!important` here to be able to override the\n",
       "     default hidden behavior on the sphinx rendered scikit-learn.org.\n",
       "     See: https://github.com/scikit-learn/scikit-learn/issues/21755 */\n",
       "  display: inline-block !important;\n",
       "  position: relative;\n",
       "}\n",
       "\n",
       "#sk-container-id-3 div.sk-text-repr-fallback {\n",
       "  display: none;\n",
       "}\n",
       "\n",
       "div.sk-parallel-item,\n",
       "div.sk-serial,\n",
       "div.sk-item {\n",
       "  /* draw centered vertical line to link estimators */\n",
       "  background-image: linear-gradient(var(--sklearn-color-text-on-default-background), var(--sklearn-color-text-on-default-background));\n",
       "  background-size: 2px 100%;\n",
       "  background-repeat: no-repeat;\n",
       "  background-position: center center;\n",
       "}\n",
       "\n",
       "/* Parallel-specific style estimator block */\n",
       "\n",
       "#sk-container-id-3 div.sk-parallel-item::after {\n",
       "  content: \"\";\n",
       "  width: 100%;\n",
       "  border-bottom: 2px solid var(--sklearn-color-text-on-default-background);\n",
       "  flex-grow: 1;\n",
       "}\n",
       "\n",
       "#sk-container-id-3 div.sk-parallel {\n",
       "  display: flex;\n",
       "  align-items: stretch;\n",
       "  justify-content: center;\n",
       "  background-color: var(--sklearn-color-background);\n",
       "  position: relative;\n",
       "}\n",
       "\n",
       "#sk-container-id-3 div.sk-parallel-item {\n",
       "  display: flex;\n",
       "  flex-direction: column;\n",
       "}\n",
       "\n",
       "#sk-container-id-3 div.sk-parallel-item:first-child::after {\n",
       "  align-self: flex-end;\n",
       "  width: 50%;\n",
       "}\n",
       "\n",
       "#sk-container-id-3 div.sk-parallel-item:last-child::after {\n",
       "  align-self: flex-start;\n",
       "  width: 50%;\n",
       "}\n",
       "\n",
       "#sk-container-id-3 div.sk-parallel-item:only-child::after {\n",
       "  width: 0;\n",
       "}\n",
       "\n",
       "/* Serial-specific style estimator block */\n",
       "\n",
       "#sk-container-id-3 div.sk-serial {\n",
       "  display: flex;\n",
       "  flex-direction: column;\n",
       "  align-items: center;\n",
       "  background-color: var(--sklearn-color-background);\n",
       "  padding-right: 1em;\n",
       "  padding-left: 1em;\n",
       "}\n",
       "\n",
       "\n",
       "/* Toggleable style: style used for estimator/Pipeline/ColumnTransformer box that is\n",
       "clickable and can be expanded/collapsed.\n",
       "- Pipeline and ColumnTransformer use this feature and define the default style\n",
       "- Estimators will overwrite some part of the style using the `sk-estimator` class\n",
       "*/\n",
       "\n",
       "/* Pipeline and ColumnTransformer style (default) */\n",
       "\n",
       "#sk-container-id-3 div.sk-toggleable {\n",
       "  /* Default theme specific background. It is overwritten whether we have a\n",
       "  specific estimator or a Pipeline/ColumnTransformer */\n",
       "  background-color: var(--sklearn-color-background);\n",
       "}\n",
       "\n",
       "/* Toggleable label */\n",
       "#sk-container-id-3 label.sk-toggleable__label {\n",
       "  cursor: pointer;\n",
       "  display: block;\n",
       "  width: 100%;\n",
       "  margin-bottom: 0;\n",
       "  padding: 0.5em;\n",
       "  box-sizing: border-box;\n",
       "  text-align: center;\n",
       "}\n",
       "\n",
       "#sk-container-id-3 label.sk-toggleable__label-arrow:before {\n",
       "  /* Arrow on the left of the label */\n",
       "  content: \"▸\";\n",
       "  float: left;\n",
       "  margin-right: 0.25em;\n",
       "  color: var(--sklearn-color-icon);\n",
       "}\n",
       "\n",
       "#sk-container-id-3 label.sk-toggleable__label-arrow:hover:before {\n",
       "  color: var(--sklearn-color-text);\n",
       "}\n",
       "\n",
       "/* Toggleable content - dropdown */\n",
       "\n",
       "#sk-container-id-3 div.sk-toggleable__content {\n",
       "  max-height: 0;\n",
       "  max-width: 0;\n",
       "  overflow: hidden;\n",
       "  text-align: left;\n",
       "  /* unfitted */\n",
       "  background-color: var(--sklearn-color-unfitted-level-0);\n",
       "}\n",
       "\n",
       "#sk-container-id-3 div.sk-toggleable__content.fitted {\n",
       "  /* fitted */\n",
       "  background-color: var(--sklearn-color-fitted-level-0);\n",
       "}\n",
       "\n",
       "#sk-container-id-3 div.sk-toggleable__content pre {\n",
       "  margin: 0.2em;\n",
       "  border-radius: 0.25em;\n",
       "  color: var(--sklearn-color-text);\n",
       "  /* unfitted */\n",
       "  background-color: var(--sklearn-color-unfitted-level-0);\n",
       "}\n",
       "\n",
       "#sk-container-id-3 div.sk-toggleable__content.fitted pre {\n",
       "  /* unfitted */\n",
       "  background-color: var(--sklearn-color-fitted-level-0);\n",
       "}\n",
       "\n",
       "#sk-container-id-3 input.sk-toggleable__control:checked~div.sk-toggleable__content {\n",
       "  /* Expand drop-down */\n",
       "  max-height: 200px;\n",
       "  max-width: 100%;\n",
       "  overflow: auto;\n",
       "}\n",
       "\n",
       "#sk-container-id-3 input.sk-toggleable__control:checked~label.sk-toggleable__label-arrow:before {\n",
       "  content: \"▾\";\n",
       "}\n",
       "\n",
       "/* Pipeline/ColumnTransformer-specific style */\n",
       "\n",
       "#sk-container-id-3 div.sk-label input.sk-toggleable__control:checked~label.sk-toggleable__label {\n",
       "  color: var(--sklearn-color-text);\n",
       "  background-color: var(--sklearn-color-unfitted-level-2);\n",
       "}\n",
       "\n",
       "#sk-container-id-3 div.sk-label.fitted input.sk-toggleable__control:checked~label.sk-toggleable__label {\n",
       "  background-color: var(--sklearn-color-fitted-level-2);\n",
       "}\n",
       "\n",
       "/* Estimator-specific style */\n",
       "\n",
       "/* Colorize estimator box */\n",
       "#sk-container-id-3 div.sk-estimator input.sk-toggleable__control:checked~label.sk-toggleable__label {\n",
       "  /* unfitted */\n",
       "  background-color: var(--sklearn-color-unfitted-level-2);\n",
       "}\n",
       "\n",
       "#sk-container-id-3 div.sk-estimator.fitted input.sk-toggleable__control:checked~label.sk-toggleable__label {\n",
       "  /* fitted */\n",
       "  background-color: var(--sklearn-color-fitted-level-2);\n",
       "}\n",
       "\n",
       "#sk-container-id-3 div.sk-label label.sk-toggleable__label,\n",
       "#sk-container-id-3 div.sk-label label {\n",
       "  /* The background is the default theme color */\n",
       "  color: var(--sklearn-color-text-on-default-background);\n",
       "}\n",
       "\n",
       "/* On hover, darken the color of the background */\n",
       "#sk-container-id-3 div.sk-label:hover label.sk-toggleable__label {\n",
       "  color: var(--sklearn-color-text);\n",
       "  background-color: var(--sklearn-color-unfitted-level-2);\n",
       "}\n",
       "\n",
       "/* Label box, darken color on hover, fitted */\n",
       "#sk-container-id-3 div.sk-label.fitted:hover label.sk-toggleable__label.fitted {\n",
       "  color: var(--sklearn-color-text);\n",
       "  background-color: var(--sklearn-color-fitted-level-2);\n",
       "}\n",
       "\n",
       "/* Estimator label */\n",
       "\n",
       "#sk-container-id-3 div.sk-label label {\n",
       "  font-family: monospace;\n",
       "  font-weight: bold;\n",
       "  display: inline-block;\n",
       "  line-height: 1.2em;\n",
       "}\n",
       "\n",
       "#sk-container-id-3 div.sk-label-container {\n",
       "  text-align: center;\n",
       "}\n",
       "\n",
       "/* Estimator-specific */\n",
       "#sk-container-id-3 div.sk-estimator {\n",
       "  font-family: monospace;\n",
       "  border: 1px dotted var(--sklearn-color-border-box);\n",
       "  border-radius: 0.25em;\n",
       "  box-sizing: border-box;\n",
       "  margin-bottom: 0.5em;\n",
       "  /* unfitted */\n",
       "  background-color: var(--sklearn-color-unfitted-level-0);\n",
       "}\n",
       "\n",
       "#sk-container-id-3 div.sk-estimator.fitted {\n",
       "  /* fitted */\n",
       "  background-color: var(--sklearn-color-fitted-level-0);\n",
       "}\n",
       "\n",
       "/* on hover */\n",
       "#sk-container-id-3 div.sk-estimator:hover {\n",
       "  /* unfitted */\n",
       "  background-color: var(--sklearn-color-unfitted-level-2);\n",
       "}\n",
       "\n",
       "#sk-container-id-3 div.sk-estimator.fitted:hover {\n",
       "  /* fitted */\n",
       "  background-color: var(--sklearn-color-fitted-level-2);\n",
       "}\n",
       "\n",
       "/* Specification for estimator info (e.g. \"i\" and \"?\") */\n",
       "\n",
       "/* Common style for \"i\" and \"?\" */\n",
       "\n",
       ".sk-estimator-doc-link,\n",
       "a:link.sk-estimator-doc-link,\n",
       "a:visited.sk-estimator-doc-link {\n",
       "  float: right;\n",
       "  font-size: smaller;\n",
       "  line-height: 1em;\n",
       "  font-family: monospace;\n",
       "  background-color: var(--sklearn-color-background);\n",
       "  border-radius: 1em;\n",
       "  height: 1em;\n",
       "  width: 1em;\n",
       "  text-decoration: none !important;\n",
       "  margin-left: 1ex;\n",
       "  /* unfitted */\n",
       "  border: var(--sklearn-color-unfitted-level-1) 1pt solid;\n",
       "  color: var(--sklearn-color-unfitted-level-1);\n",
       "}\n",
       "\n",
       ".sk-estimator-doc-link.fitted,\n",
       "a:link.sk-estimator-doc-link.fitted,\n",
       "a:visited.sk-estimator-doc-link.fitted {\n",
       "  /* fitted */\n",
       "  border: var(--sklearn-color-fitted-level-1) 1pt solid;\n",
       "  color: var(--sklearn-color-fitted-level-1);\n",
       "}\n",
       "\n",
       "/* On hover */\n",
       "div.sk-estimator:hover .sk-estimator-doc-link:hover,\n",
       ".sk-estimator-doc-link:hover,\n",
       "div.sk-label-container:hover .sk-estimator-doc-link:hover,\n",
       ".sk-estimator-doc-link:hover {\n",
       "  /* unfitted */\n",
       "  background-color: var(--sklearn-color-unfitted-level-3);\n",
       "  color: var(--sklearn-color-background);\n",
       "  text-decoration: none;\n",
       "}\n",
       "\n",
       "div.sk-estimator.fitted:hover .sk-estimator-doc-link.fitted:hover,\n",
       ".sk-estimator-doc-link.fitted:hover,\n",
       "div.sk-label-container:hover .sk-estimator-doc-link.fitted:hover,\n",
       ".sk-estimator-doc-link.fitted:hover {\n",
       "  /* fitted */\n",
       "  background-color: var(--sklearn-color-fitted-level-3);\n",
       "  color: var(--sklearn-color-background);\n",
       "  text-decoration: none;\n",
       "}\n",
       "\n",
       "/* Span, style for the box shown on hovering the info icon */\n",
       ".sk-estimator-doc-link span {\n",
       "  display: none;\n",
       "  z-index: 9999;\n",
       "  position: relative;\n",
       "  font-weight: normal;\n",
       "  right: .2ex;\n",
       "  padding: .5ex;\n",
       "  margin: .5ex;\n",
       "  width: min-content;\n",
       "  min-width: 20ex;\n",
       "  max-width: 50ex;\n",
       "  color: var(--sklearn-color-text);\n",
       "  box-shadow: 2pt 2pt 4pt #999;\n",
       "  /* unfitted */\n",
       "  background: var(--sklearn-color-unfitted-level-0);\n",
       "  border: .5pt solid var(--sklearn-color-unfitted-level-3);\n",
       "}\n",
       "\n",
       ".sk-estimator-doc-link.fitted span {\n",
       "  /* fitted */\n",
       "  background: var(--sklearn-color-fitted-level-0);\n",
       "  border: var(--sklearn-color-fitted-level-3);\n",
       "}\n",
       "\n",
       ".sk-estimator-doc-link:hover span {\n",
       "  display: block;\n",
       "}\n",
       "\n",
       "/* \"?\"-specific style due to the `<a>` HTML tag */\n",
       "\n",
       "#sk-container-id-3 a.estimator_doc_link {\n",
       "  float: right;\n",
       "  font-size: 1rem;\n",
       "  line-height: 1em;\n",
       "  font-family: monospace;\n",
       "  background-color: var(--sklearn-color-background);\n",
       "  border-radius: 1rem;\n",
       "  height: 1rem;\n",
       "  width: 1rem;\n",
       "  text-decoration: none;\n",
       "  /* unfitted */\n",
       "  color: var(--sklearn-color-unfitted-level-1);\n",
       "  border: var(--sklearn-color-unfitted-level-1) 1pt solid;\n",
       "}\n",
       "\n",
       "#sk-container-id-3 a.estimator_doc_link.fitted {\n",
       "  /* fitted */\n",
       "  border: var(--sklearn-color-fitted-level-1) 1pt solid;\n",
       "  color: var(--sklearn-color-fitted-level-1);\n",
       "}\n",
       "\n",
       "/* On hover */\n",
       "#sk-container-id-3 a.estimator_doc_link:hover {\n",
       "  /* unfitted */\n",
       "  background-color: var(--sklearn-color-unfitted-level-3);\n",
       "  color: var(--sklearn-color-background);\n",
       "  text-decoration: none;\n",
       "}\n",
       "\n",
       "#sk-container-id-3 a.estimator_doc_link.fitted:hover {\n",
       "  /* fitted */\n",
       "  background-color: var(--sklearn-color-fitted-level-3);\n",
       "}\n",
       "</style><div id=\"sk-container-id-3\" class=\"sk-top-container\"><div class=\"sk-text-repr-fallback\"><pre>KNeighborsClassifier()</pre><b>In a Jupyter environment, please rerun this cell to show the HTML representation or trust the notebook. <br />On GitHub, the HTML representation is unable to render, please try loading this page with nbviewer.org.</b></div><div class=\"sk-container\" hidden><div class=\"sk-item\"><div class=\"sk-estimator fitted sk-toggleable\"><input class=\"sk-toggleable__control sk-hidden--visually\" id=\"sk-estimator-id-3\" type=\"checkbox\" checked><label for=\"sk-estimator-id-3\" class=\"sk-toggleable__label fitted sk-toggleable__label-arrow fitted\">&nbsp;&nbsp;KNeighborsClassifier<a class=\"sk-estimator-doc-link fitted\" rel=\"noreferrer\" target=\"_blank\" href=\"https://scikit-learn.org/1.5/modules/generated/sklearn.neighbors.KNeighborsClassifier.html\">?<span>Documentation for KNeighborsClassifier</span></a><span class=\"sk-estimator-doc-link fitted\">i<span>Fitted</span></span></label><div class=\"sk-toggleable__content fitted\"><pre>KNeighborsClassifier()</pre></div> </div></div></div></div>"
      ],
      "text/plain": [
       "KNeighborsClassifier()"
      ]
     },
     "execution_count": 255,
     "metadata": {},
     "output_type": "execute_result"
    }
   ],
   "source": [
    "from sklearn.neighbors import KNeighborsClassifier\n",
    "\n",
    "y_train_large = (y_train >= 7)\n",
    "y_train_odd = (y_train % 2 == 1)\n",
    "y_mutilabel = np.c_[y_train_large, y_train_odd]\n",
    "\n",
    "knn_clf = KNeighborsClassifier()\n",
    "knn_clf.fit(X_train, y_mutilabel)"
   ]
  },
  {
   "cell_type": "code",
   "execution_count": 256,
   "metadata": {},
   "outputs": [
    {
     "name": "stderr",
     "output_type": "stream",
     "text": [
      "/Library/Frameworks/Python.framework/Versions/3.11/lib/python3.11/site-packages/sklearn/base.py:493: UserWarning: X does not have valid feature names, but KNeighborsClassifier was fitted with feature names\n",
      "  warnings.warn(\n"
     ]
    },
    {
     "data": {
      "text/plain": [
       "array([[False,  True]])"
      ]
     },
     "execution_count": 256,
     "metadata": {},
     "output_type": "execute_result"
    }
   ],
   "source": [
    "# some_digit = 5 7보다 크지 않고, 홀수 이다.\n",
    "knn_clf.predict([some_digit])"
   ]
  },
  {
   "cell_type": "code",
   "execution_count": 258,
   "metadata": {},
   "outputs": [
    {
     "data": {
      "text/plain": [
       "np.float64(0.9764102655606048)"
      ]
     },
     "execution_count": 258,
     "metadata": {},
     "output_type": "execute_result"
    }
   ],
   "source": [
    "#다중 레이블 분류기 평가 방식은 많다.\n",
    "# 적절한 지표는 프로젝트에 따라 다르다.\n",
    "\n",
    "y_train_knn_pred = cross_val_predict(knn_clf, X_train, y_mutilabel, cv=3)\n",
    "f1_score(y_mutilabel, y_train_knn_pred, average=\"macro\")"
   ]
  }
 ],
 "metadata": {
  "kernelspec": {
   "display_name": "Python 3",
   "language": "python",
   "name": "python3"
  },
  "language_info": {
   "codemirror_mode": {
    "name": "ipython",
    "version": 3
   },
   "file_extension": ".py",
   "mimetype": "text/x-python",
   "name": "python",
   "nbconvert_exporter": "python",
   "pygments_lexer": "ipython3",
   "version": "3.11.4"
  }
 },
 "nbformat": 4,
 "nbformat_minor": 2
}
